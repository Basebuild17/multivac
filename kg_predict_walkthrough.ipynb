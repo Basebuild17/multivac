{
 "cells": [
  {
   "cell_type": "markdown",
   "metadata": {},
   "source": [
    "# Walk Through for Knowledge Graph Prediction\n",
    "This notebook outlines the basic process for emulating and predicting a \"complete\" knowledge graph based on analysis of the observed graph. \n",
    "First, we set up the required imports and arguments for the demonstration. This process can be performed all at once from the commandline as well:<br><br>\n",
    "`python3 predict_kg.py -f FILE -n FNAME -d SNAP_DIR -s -v`<br><br>\n",
    "(Expectation Maximization iterations and Kronecker graph parameter matrix size are by default 30 and 2 respectively, but can also be set at the commandline with flags `-e` and `-m`\n",
    "\n",
    "You will need to clone Stanford's [SNAP](https://github.com/snap-stanford/snap) repo to access the `kronem` and `krongen` utilities there. These must also be compiled locally before running. In this example, we have also set an environment variable defining the location of the SNAP folder containing the `kronem` and `krongen` directories."
   ]
  },
  {
   "cell_type": "code",
   "execution_count": 1,
   "metadata": {},
   "outputs": [],
   "source": [
    "import networkx as nx\n",
    "import numpy as np\n",
    "import os\n",
    "import pandas as pd\n",
    "import subprocess\n",
    "import time\n",
    "\n",
    "from get_kg_query_params import read_txt\n",
    "from predict_kg import get_network_params, generate_graph, get_call_str"
   ]
  },
  {
   "cell_type": "code",
   "execution_count": 2,
   "metadata": {},
   "outputs": [],
   "source": [
    "args_dict = {'file': 'data/train2id.txt',          # Knowledge Graph network file\n",
    "             'fname': 'new_multivac.txt',          # File to save emulated graph\n",
    "             'snap_dir': os.environ['SNAP_DIR'],   # Location of SNAP utilities\n",
    "             'save': 'True',                       # Whether to save the new network to disk\n",
    "             'verbose': 'True',                    # Whether to print verbose reports on processes\n",
    "             'em_iter': 2,                         # Expectation Maximization iterations to perform\n",
    "             'mat_size': 2}                        # Kronecker Graph parameter matrix size (m * m)"
   ]
  },
  {
   "cell_type": "markdown",
   "metadata": {},
   "source": [
    "Next, we convert our knowledge graph to a simplified version, with relations as directed links connecting head and tail entity nodes."
   ]
  },
  {
   "cell_type": "code",
   "execution_count": 3,
   "metadata": {},
   "outputs": [],
   "source": [
    "network = read_txt(args_dict['file'])\n",
    "network = np.array(network).astype(int)[:,:2]\n",
    "network = np.unique(network, axis=0)\n",
    "\n",
    "out_dir, base_name = os.path.split(args_dict['fname'])\n",
    "base, _ = os.path.splitext(base_name)\n",
    "\n",
    "new_out = os.path.join(out_dir, \"simplified_\"+base_name)\n",
    "np.savetxt(new_out, network, fmt='%u', delimiter='\\t')\n"
   ]
  },
  {
   "attachments": {},
   "cell_type": "markdown",
   "metadata": {},
   "source": [
    "We then execute the Kronecker Expectation Maximization (KronEM) algorithm on this simplified graph. KronEM was developed at Stanford in 2011 as an efficient method for fitting Kronecker models to large real-world graphs with missing nodes and edges. KronEM uses Expectation Maximization (EM) to fit a model of graph structure using the observed portion, and then estimating the missing portion using the model.\n",
    "\n",
    "Running in an interpreter or from the command line, we would use the following function to call the `kronem` utility and estimate the Kronecker graph parameters:\n",
    "```python\n",
    "params = get_network_params(new_out, \n",
    "                            snap_dir=args_dict['snap_dir'], \n",
    "                            em_iter=args_dict['em_iter'], \n",
    "                            mat_size=args_dict['mat_size'], \n",
    "                            verbose=args_dict['verbose'])\n",
    "```\n",
    "However, in order to show the process output in the Jupyter environment, we call the utiltiy directly from the notebook here. "
   ]
  },
  {
   "cell_type": "code",
   "execution_count": 4,
   "metadata": {},
   "outputs": [
    {
     "name": "stdout",
     "output_type": "stream",
     "text": [
      "Kronecker graphs. build: 13:43:07, Dec  6 2019. Time: 14:52:42 [Dec  6 2019]\n",
      "============================================================================\n",
      "Input graph file (single directed edge per line) (-i:)=/Users/ben_ryan/Documents/git/multivac/simplified_new_multivac.txt\n",
      "Output file prefix (-o:)=\n",
      "Initiator matrix size (-n0:)=2\n",
      "Init Gradient Descent Matrix (R=random) (-m:)=R\n",
      "Gradient descent iterations for M-step (-gi:)=5\n",
      "EM iterations (-ei:)=2\n",
      "Learning rate (-l:)=1e-05\n",
      "Minimum gradient step for M-step (-mns:)=0.001\n",
      "Maximum gradient step for M-step (-mxs:)=0.008\n",
      "Samples for MCMC warm-up (-w:)=8000\n",
      "Samples per gradient estimation (-s:)=2000\n",
      "Scale the initiator to match the number of edges (-sim:)=No\n",
      "Probability of using NodeSwap (vs. EdgeSwap) MCMC proposal (-nsp:)=0.6\n",
      "Debug mode (-debug:)=No\n",
      "INIT PARAM\n",
      "      0.7698      0.5126\n",
      "      0.4588      0.2017\n",
      " (sum:1.9428)\n",
      "SCALED PARAM\n",
      "      0.7698      0.5126\n",
      "      0.4588      0.2017\n",
      " (sum:1.9428)\n",
      "\n",
      "----------------------------------------------------------------------\n",
      "Fitting graph on 24721 nodes, 400147 edges\n",
      "Kron iters:  15 (== 32768 nodes)\n",
      "\n",
      "\n",
      "----------------------------------------------------------------------\n",
      "001 EM-iter] E-Step\n",
      "  Warm-Up [8000] : 3.91s\n",
      "  Gibbs Warm-Up [8000] : 23.08s\n",
      "   10% done : 3.18s\n",
      "   20% done : 5.40s\n",
      "   30% done : 7.56s\n",
      "   40% done : 9.87s\n",
      "   50% done : 12.13s\n",
      "   60% done : 14.52s\n",
      "   70% done : 16.87s\n",
      "   80% done : 19.24s\n",
      "   90% done : 21.66s\n",
      "  100% done : 24.10s\n",
      "\n",
      "\n",
      "001 EM-iter] M-Step\n",
      "    001]   trueE0: 2.42 (400147 from 24721),  estE0: 1.94 (409285 from 32768),  ERR: 0.477546\n",
      "      currLL: -4182844.5341, deltaLL: -17706.9480\n",
      "      0]  0.466542  <--  0.458768 +  0.007386   Grad: 1320506.1   Rate: 5.59302e-09\n",
      "      1]  0.520279  <--  0.512596 +  0.007299   Grad: 2294255.9   Rate: 3.18131e-09\n",
      "      2]  0.209339  <--  0.201688 +  0.007268   Grad: 6708459.3   Rate: 1.08343e-09\n",
      "      3]  0.777550  <--  0.769795 +  0.007367   Grad: 3490793.7   Rate: 2.11055e-09\n",
      "    Time: 14.42s\n",
      "\n",
      "    002] ...........................................................................................................................................................................................................................................................................................................................................................................................................................................................................................................................................................................................................  trueE0: 2.42 (400147 from 24721),  estE0: 1.97 (409285 from 32768),  ERR: 0.446683\n",
      "      currLL: -3959769.0899, deltaLL: 223075.4442\n",
      "      0]  0.474173  <--  0.466542 +  0.007249   Grad: 2091323521.0   Rate: 3.46614e-12\n",
      "      1]  0.527670  <--  0.520279 +  0.007022   Grad: 4153891147.3   Rate: 1.69035e-12\n",
      "      2]  0.216401  <--  0.209339 +  0.006710   Grad: 12268839373.9   Rate: 5.46884e-13\n",
      "      3]  0.784351  <--  0.777550 +  0.006461   Grad: 7445705969.5   Rate: 8.67727e-13\n",
      "    Time: 14.66s\n",
      "\n",
      "    003] ........  trueE0: 2.42 (400147 from 24721),  estE0: 2.00 (409285 from 32768),  ERR: 0.417798\n",
      "      currLL: -3855350.4969, deltaLL: 104418.5930\n",
      "      0]  0.480531  <--  0.474173 +  0.006041   Grad: 1931116124.2   Rate: 3.12819e-12\n",
      "      1]  0.533724  <--  0.527670 +  0.005751   Grad: 3968508892.2   Rate: 1.44926e-12\n",
      "      2]  0.222174  <--  0.216401 +  0.005484   Grad: 11695778876.0   Rate: 4.68885e-13\n",
      "      3]  0.789813  <--  0.784351 +  0.005189   Grad: 7341721533.6   Rate: 7.06769e-13\n",
      "    Time: 14.86s\n",
      "\n",
      "    004] .........  trueE0: 2.42 (400147 from 24721),  estE0: 2.03 (409285 from 32768),  ERR: 0.394150\n",
      "      currLL: -3771628.7189, deltaLL: 83721.7780\n",
      "      0]  0.485579  <--  0.480531 +  0.004795   Grad: 1787892740.0   Rate: 2.68203e-12\n",
      "      1]  0.538695  <--  0.533724 +  0.004723   Grad: 3800683746.3   Rate: 1.24256e-12\n",
      "      2]  0.226926  <--  0.222174 +  0.004514   Grad: 11228909854.4   Rate: 4.0201e-13\n",
      "      3]  0.794203  <--  0.789813 +  0.004171   Grad: 7245176959.9   Rate: 5.75668e-13\n",
      "    Time: 15.49s\n",
      "\n",
      "    005] .........  trueE0: 2.42 (400147 from 24721),  estE0: 2.05 (409285 from 32768),  ERR: 0.374990\n",
      "      currLL: -3704928.5428, deltaLL: 66700.1761\n",
      "      0]  0.489815  <--  0.485579 +  0.004024   Grad: 1662342162.0   Rate: 2.42053e-12\n",
      "      1]  0.542792  <--  0.538695 +  0.003892   Grad: 3653278950.3   Rate: 1.06534e-12\n",
      "      2]  0.230665  <--  0.226926 +  0.003552   Grad: 10847193754.7   Rate: 3.2744e-13\n",
      "      3]  0.797737  <--  0.794203 +  0.003357   Grad: 7158556057.1   Rate: 4.68885e-13\n",
      "    FinalLL : -3704928.542825,   TotalExeTm: 59.42s\n",
      "    FITTED PARAMS\n",
      "      0.4856      0.5387\n",
      "      0.2269      0.7942\n",
      " (sum:2.0454)\n",
      "\n",
      "\n",
      "\n",
      "----------------------------------------------------------------------\n",
      "002 EM-iter] E-Step\n",
      "  Warm-Up [8000] : 4.34s\n",
      "  Gibbs Warm-Up [8000] : 23.23s\n",
      "   10% done : 3.26s\n",
      "   20% done : 5.69s\n",
      "   30% done : 8.08s\n",
      "   40% done : 10.42s\n",
      "   50% done : 12.83s\n",
      "   60% done : 15.14s\n",
      "   70% done : 17.48s\n",
      "   80% done : 19.80s\n",
      "   90% done : 22.10s\n",
      "  100% done : 24.37s\n",
      "\n",
      "\n",
      "002 EM-iter] M-Step\n",
      "    001]   trueE0: 2.42 (400147 from 24721),  estE0: 2.05 (419916 from 32768),  ERR: 0.374990\n",
      "      currLL: -3792725.2889, deltaLL: 36340.5273\n",
      "      0]  0.493363  <--  0.485579 +  0.007395   Grad:  923356.6   Rate: 8.00905e-09\n",
      "      1]  0.546516  <--  0.538695 +  0.007430   Grad: 1807074.6   Rate: 4.11138e-09\n",
      "      2]  0.234645  <--  0.226926 +  0.007333   Grad: 5513013.1   Rate: 1.33017e-09\n",
      "      3]  0.802017  <--  0.794203 +  0.007423   Grad: 3702365.3   Rate: 2.00502e-09\n",
      "    Time: 15.42s\n",
      "\n",
      "    002] .............................................................................................................................................................................................................................................................................................................................................................................................................................................................................................................................................................................................................  trueE0: 2.42 (400147 from 24721),  estE0: 2.08 (419916 from 32768),  ERR: 0.343851\n",
      "      currLL: -3649571.4973, deltaLL: 143153.7916\n",
      "      0]  0.501259  <--  0.493363 +  0.007501   Grad: 1590729471.9   Rate: 4.71524e-12\n",
      "      1]  0.553862  <--  0.546516 +  0.006979   Grad: 3362802636.2   Rate: 2.0753e-12\n",
      "      2]  0.241641  <--  0.234645 +  0.006646   Grad: 10419733634.7   Rate: 6.37859e-13\n",
      "      3]  0.808665  <--  0.802017 +  0.006315   Grad: 7278001799.5   Rate: 8.67727e-13\n",
      "    Time: 15.11s\n",
      "\n",
      "    003] .....  trueE0: 2.42 (400147 from 24721),  estE0: 2.11 (419916 from 32768),  ERR: 0.314966\n",
      "      currLL: -3571531.6116, deltaLL: 78039.8857\n",
      "      0]  0.507750  <--  0.501259 +  0.006166   Grad: 1376553574.9   Rate: 4.47948e-12\n",
      "      1]  0.560020  <--  0.553862 +  0.005850   Grad: 3123266231.6   Rate: 1.87296e-12\n",
      "      2]  0.247340  <--  0.241641 +  0.005414   Grad: 9900427379.8   Rate: 5.46884e-13\n",
      "      3]  0.814182  <--  0.808665 +  0.005241   Grad: 7045060571.9   Rate: 7.43967e-13\n",
      "    Time: 15.43s\n",
      "\n",
      "    004] .......  trueE0: 2.42 (400147 from 24721),  estE0: 2.13 (419916 from 32768),  ERR: 0.291101\n",
      "      currLL: -3509906.4771, deltaLL: 61625.1345\n",
      "      0]  0.512996  <--  0.507750 +  0.004984   Grad: 1171256628.3   Rate: 4.25551e-12\n",
      "      1]  0.564919  <--  0.560020 +  0.004655   Grad: 2898581534.8   Rate: 1.60583e-12\n",
      "      2]  0.252010  <--  0.247340 +  0.004436   Grad: 9461680683.4   Rate: 4.68885e-13\n",
      "      3]  0.818537  <--  0.814182 +  0.004137   Grad: 6827508896.0   Rate: 6.05966e-13\n",
      "    Time: 15.71s\n",
      "\n",
      "    005] ......  trueE0: 2.42 (400147 from 24721),  estE0: 2.15 (419916 from 32768),  ERR: 0.271930\n",
      "      currLL: -3462287.1051, deltaLL: 47619.3720\n",
      "      0]  0.517197  <--  0.512996 +  0.003991   Grad: 987129184.8   Rate: 4.04273e-12\n",
      "      1]  0.568830  <--  0.564919 +  0.003716   Grad: 2698768166.3   Rate: 1.3768e-12\n",
      "      2]  0.255856  <--  0.252010 +  0.003653   Grad: 9087751923.3   Rate: 4.0201e-13\n",
      "      3]  0.822166  <--  0.818537 +  0.003448   Grad: 6636126125.9   Rate: 5.1954e-13\n",
      "    FinalLL : -3462287.105088,   TotalExeTm: 01m01s\n",
      "    FITTED PARAMS\n",
      "       0.513      0.5649\n",
      "       0.252      0.8185\n",
      " (sum:2.1485)\n",
      "\n",
      "\n"
     ]
    },
    {
     "name": "stdout",
     "output_type": "stream",
     "text": [
      "\r\n",
      "run time: 03m36s (14:56:20)\r\n"
     ]
    }
   ],
   "source": [
    "call_str = get_call_str(new_out, args_dict['snap_dir'], em_iter=args_dict['em_iter'], mat_size=args_dict['mat_size'])\n",
    "!{call_str}\n",
    "\n",
    "base, _ = os.path.splitext(\"simplified_\"+base_name)\n",
    "\n",
    "with open(\"KronEM-{}.tab\".format(base), \"r\") as f:\n",
    "    params = f.readlines()[-1]\n",
    "\n",
    "params = params[params.index(\"[\")+1:params.index(\"]\")].replace(\",\",\"\")\n",
    "params = '\"'+params+'\"'\n"
   ]
  },
  {
   "cell_type": "markdown",
   "metadata": {},
   "source": [
    "Having calculated the parameters, we now call `krongen` to generate an emulated graph stochastically. "
   ]
  },
  {
   "cell_type": "code",
   "execution_count": null,
   "metadata": {},
   "outputs": [],
   "source": [
    "generate_graph(network, params, args_dict['snap_dir'], \n",
    "               args_dict['fname'], args_dict['verbose'])\n"
   ]
  },
  {
   "cell_type": "markdown",
   "metadata": {},
   "source": [
    "Finally, we merge the observed and emulated graphs to produce a composite predicted graph."
   ]
  },
  {
   "cell_type": "code",
   "execution_count": null,
   "metadata": {
    "scrolled": true
   },
   "outputs": [],
   "source": [
    "new_net = read_txt(args_dict['fname'])\n",
    "new_net = [x for x in new_net if not x[0].startswith(\"#\")]\n",
    "new_net = np.array(new_net).astype(int)\n",
    "new_net = np.unique(np.vstack((network, new_net)), axis=0)\n",
    "np.savetxt(args_dict['fname'], new_net, fmt='%u', delimiter='\\t')"
   ]
  },
  {
   "cell_type": "code",
   "execution_count": null,
   "metadata": {},
   "outputs": [],
   "source": [
    "print(\"Observed network: {} nodes and {} edges.\".format(len(np.unique(network)), network.shape[0]))\n",
    "print(\"Emulated network: {} nodes and {} edges.\".format(len(np.unique(new_net)), new_net.shape[0]))"
   ]
  },
  {
   "cell_type": "code",
   "execution_count": null,
   "metadata": {},
   "outputs": [],
   "source": []
  }
 ],
 "metadata": {
  "kernelspec": {
   "display_name": "Python 3",
   "language": "python",
   "name": "python3"
  },
  "language_info": {
   "codemirror_mode": {
    "name": "ipython",
    "version": 3
   },
   "file_extension": ".py",
   "mimetype": "text/x-python",
   "name": "python",
   "nbconvert_exporter": "python",
   "pygments_lexer": "ipython3",
   "version": "3.7.5"
  }
 },
 "nbformat": 4,
 "nbformat_minor": 2
}
