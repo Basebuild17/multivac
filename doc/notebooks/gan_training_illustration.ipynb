{
 "cells": [
  {
   "cell_type": "markdown",
   "metadata": {},
   "source": [
    "# Walk Through for GAN Training\n",
    "This notebook illustrates the training of MULTIVAC's generative adversarial network system for query generation.\n",
    "First, we set up the required imports and arguments for the test. This process can be performed all at once from the commandline as well:<br><br>\n",
    "`python3 querygan_pyt.py --gan_D_STEPS 1 --gan_K_STEPS 2 --gan_ROLLOUT_NUM 3 --gan_GENERATED_NUM 100`<br><br>\n",
    "(training and model parameters are read from a `config.cfg` file, but any of them may be overriden at run time with the appropriate arguments. Here, we reduce the number of steps and the generated samples batch size to better illustrate the entire training cycle in a more timely fashion. "
   ]
  },
  {
   "cell_type": "code",
   "execution_count": null,
   "metadata": {},
   "outputs": [],
   "source": [
    "import os\n",
    "os.chdir('src/gan')\n",
    "from multivac.src.gan.querygan_pyt import *"
   ]
  },
  {
   "cell_type": "code",
   "execution_count": null,
   "metadata": {},
   "outputs": [],
   "source": [
    "other_args = ['--gan_D_STEPS',       '1', \n",
    "              '--gan_K_STEPS',       '2', \n",
    "              '--gan_ROLLOUT_NUM',   '3', \n",
    "              '--gan_GENERATED_NUM', '100']\n",
    "\n",
    "args = {'config': 'config.cfg',\n",
    "        'cuda': False,\n",
    "        'continue': True,\n",
    "        'gen_chk': '../../models/gen_checkpoint.pth',\n",
    "        'disc_chk': '../../models/disc_checkpoint.pth'}\n",
    "\n",
    "overrides = {}\n",
    "\n",
    "i = 0\n",
    "\n",
    "while i < len(other_args):\n",
    "    if other_args[i].startswith('--'):\n",
    "        key = other_args[i][2:]\n",
    "        value = other_args[i+1]\n",
    "\n",
    "        if value.startswith('--'):\n",
    "            overrides[key] = True\n",
    "            i += 1\n",
    "            continue\n",
    "        else:\n",
    "            overrides[key] = value\n",
    "            i += 2\n",
    "    else:\n",
    "        i += 1\n",
    "\n",
    "cfg = configparser.ConfigParser()\n",
    "cfgDIR = os.path.dirname(os.getcwd())\n",
    "\n",
    "if args['config'] is not None:\n",
    "    cfg.read(args['config'])\n",
    "else:\n",
    "    cfg.read(os.path.join(cfgDIR, 'config.cfg'))\n",
    "\n",
    "cfg_dict = cfg._sections\n",
    "cfg_dict['ARGS'] = args\n",
    "\n",
    "for arg in overrides:\n",
    "    section, param = arg.split(\"_\", 1)\n",
    "    try:\n",
    "        cfg[section.upper()][param] = overrides[arg]\n",
    "    except KeyError:\n",
    "        print(\"Section \" + section.upper() + \"not found in \"\n",
    "              \"\" + args['config'] + \", skipping.\")\n",
    "        continue\n",
    "\n",
    "for name, section in cfg_dict.items():\n",
    "    for carg in section:\n",
    "        # Cast all arguments to proper types\n",
    "        if section[carg] == 'None':\n",
    "            section[carg] = None\n",
    "            continue\n",
    "\n",
    "        try:\n",
    "            section[carg] = int(section[carg])\n",
    "        except:\n",
    "            try:\n",
    "                section[carg] = float(section[carg])\n",
    "            except:\n",
    "                if section[carg] in ['True','False']:\n",
    "                    section[carg] = eval(section[carg])\n"
   ]
  },
  {
   "cell_type": "markdown",
   "metadata": {},
   "source": [
    "Next, we load up the knowledge graph embedding model previously calculated. This embedding model allows us to assign probabilities to missing nodes or relationships in the knowledge graph proposed via submitted queries. Here we are using TransE, an approach which models relationships by interpreting them as translations operating on the low-dimensional embeddings of entities."
   ]
  },
  {
   "cell_type": "code",
   "execution_count": null,
   "metadata": {},
   "outputs": [],
   "source": [
    "continue_training(cfg_dict, args['gen_chk'], args['disc_chk'])"
   ]
  },
  {
   "cell_type": "code",
   "execution_count": null,
   "metadata": {},
   "outputs": [],
   "source": []
  }
 ],
 "metadata": {
  "kernelspec": {
   "display_name": "Python 3",
   "language": "python",
   "name": "python3"
  },
  "language_info": {
   "codemirror_mode": {
    "name": "ipython",
    "version": 3
   },
   "file_extension": ".py",
   "mimetype": "text/x-python",
   "name": "python",
   "nbconvert_exporter": "python",
   "pygments_lexer": "ipython3",
   "version": "3.7.5"
  }
 },
 "nbformat": 4,
 "nbformat_minor": 2
}
