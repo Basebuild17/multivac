{
 "cells": [
  {
   "cell_type": "markdown",
   "metadata": {},
   "source": [
    "# Walk Through for Surfacing Key RDF-Triples for Knowledge Graph Expansion\n",
    "This notebook outlines the basic process for identifying RDF-triples that are key points from which an observed knowledge graph might be expanded toward a \"complete\" knowledge graph based on analysis of the observed and emulated graphs.\n",
    "\n",
    "First, we set up the required imports and arguments for the demonstration. \n"
   ]
  },
  {
   "cell_type": "code",
   "execution_count": 1,
   "metadata": {},
   "outputs": [],
   "source": [
    "import json\n",
    "import networkx as nx\n",
    "import numpy as np\n",
    "import os\n",
    "\n",
    "from multivac.get_kg_query_params import build_network, read_txt\n",
    "from calculate_network_change import *"
   ]
  },
  {
   "cell_type": "code",
   "execution_count": 2,
   "metadata": {},
   "outputs": [],
   "source": [
    "ofile = \"data/train2id.txt\"\n",
    "nfile = \"new_multivac_test.txt\"\n",
    "kg_dir = \"data\"\n",
    "measure = 'eigenvector'\n",
    "num_results = 100\n",
    "out = None"
   ]
  },
  {
   "cell_type": "markdown",
   "metadata": {},
   "source": [
    "Next, we load the RDF-triples from our knowledge graph as a numpy array of indices. We also load dictionaries for our entities and relations mapping those indices to the original texts."
   ]
  },
  {
   "cell_type": "code",
   "execution_count": 3,
   "metadata": {},
   "outputs": [],
   "source": [
    "triples = read_txt(os.path.join(kg_dir, 'train2id.txt'))\n",
    "triples = np.array(triples).astype(int)\n",
    "triples = np.unique(triples, axis=0)\n",
    "\n",
    "ents = get_items(os.path.join(kg_dir, 'entity2id.txt'))\n",
    "rels = get_items(os.path.join(kg_dir, 'relation2id.txt'))\n"
   ]
  },
  {
   "cell_type": "markdown",
   "metadata": {},
   "source": [
    "We then read in the new file from the emulated graph for comparison, and constitute both our observed and emulated knowledge graphs as networks using `networkx`. \n",
    "\n"
   ]
  },
  {
   "cell_type": "code",
   "execution_count": 4,
   "metadata": {},
   "outputs": [],
   "source": [
    "# read in new file for comparison\n",
    "new = read_txt(nfile)\n",
    "new = np.array(new).astype(int)\n",
    "\n",
    "# create networks\n",
    "neto = build_network(triples)\n",
    "netn = build_network(new)\n"
   ]
  },
  {
   "cell_type": "markdown",
   "metadata": {},
   "source": [
    "Finally, for all nodes in the observed network, we calculate the desired centrality measure for the node in both the observed and emulated graphs, and return these as a Python dictionary. We can then calculate the difference in centrality per node when moving from the observed to the emulated graph; we order these results according to which nodes exhibit the biggest increase in centrality.\n"
   ]
  },
  {
   "cell_type": "code",
   "execution_count": 5,
   "metadata": {},
   "outputs": [],
   "source": [
    "net = build_comparison_metrics(neto, netn, measure)\n",
    "result = generate_node_changes(net)\n",
    "result = {k: v for k, v in sorted(result.items(),\n",
    "                                  key=lambda item: item[1])}\n",
    "\n",
    "# generate results of interest\n",
    "gains = generate_result_lists(result, len(result), 'top')\n"
   ]
  },
  {
   "cell_type": "markdown",
   "metadata": {},
   "source": [
    "Ultimately, we are most interested in which RDF-triples are most important in expanding the knowledge graph, not just individual entity nodes. To get this information, we calculate scores for each triple, by summing the scores of the component entity nodes. We then select the top scoring RDF-triples to return."
   ]
  },
  {
   "cell_type": "code",
   "execution_count": 6,
   "metadata": {
    "scrolled": true
   },
   "outputs": [],
   "source": [
    "trip_scores = np.zeros(triples.shape[0])\n",
    "\n",
    "for i, trip in enumerate(triples):\n",
    "    head, tail, _ = trip\n",
    "    trip_scores[i] = gains.get(head, 0) + gains.get(tail, 0)\n",
    "\n",
    "idxs = trip_scores.argsort()[::-1]\n",
    "top = triples[idxs,][:num_results,:]\n"
   ]
  },
  {
   "cell_type": "markdown",
   "metadata": {},
   "source": [
    "Finally, we convert our top RDF-triples from numeric indices back to the original text for review. This can either be written out to a JSON file or returned directly as a Python dictionary object containing the entity and relation IDs, the score and the text for each identified triple."
   ]
  },
  {
   "cell_type": "code",
   "execution_count": 7,
   "metadata": {},
   "outputs": [
    {
     "name": "stdout",
     "output_type": "stream",
     "text": [
      "Score (0.0007605004881929781):influenza peak | influenza peaks be is increase\n",
      "Score (0.0007266007786290531):local centrality higher larger than that | higher than that | lower than that\n",
      "Score (0.0006923816430531934):simulation study | short simulation study in simulation study | short simulation study\n",
      "Score (0.0006829411897315367):hong kong | hong kong sar of university hong kong | hong kong sar\n",
      "Score (0.0006780930042352758):animal | animal 's phenotype | animal shelters | animal hosts become because of animal | animal 's phenotype | animal shelters | animal hosts\n",
      "Score (0.000663488824713562):disease surveillance face challenges | logistical challenges\n",
      "Score (0.0006520597275414555):new values | new value differ from nominal values\n",
      "Score (0.0006287673753062097):exploitation be only strategy\n",
      "Score (0.0006216245024218481):grid cells | 900 grid cells with asterisk\n",
      "Score (0.0006173229661101804):doctor travel to hong kong | hong kong sar\n",
      "Score (0.0006123284535794816):animal | animal 's phenotype | animal shelters | animal hosts will become for challenges | logistical challenges\n",
      "Score (0.0006119715382171567):few results provide in subsection | previous subsection | following subsection | next subsection\n",
      "Score (0.0006087655216874539):homogeneous message give same size | similar size\n",
      "Score (0.0006059663083962544):have characterized have also analyzed | have analyzed\n",
      "Score (0.0006050788017214444):stochastic effects prominent in finite populations | finite population\n",
      "Score (0.0005923676884651909):weather | weather conditions instance of weather | weather conditions\n",
      "Score (0.000592041852565534):rural areas | rural area experience burdens\n",
      "Score (0.0005907414260264058):new values | new value propose by draws\n",
      "Score (0.0005884372537201415):model uncertainty | model selection uncertainty in weather | weather conditions\n",
      "Score (0.000585852987910581):phylogeny | timed phylogeny | ladder-like phylogeny | spindly phylogeny be when subject\n",
      "Score (0.0005849325124011248):annual incidence | annual prevalence | mean annual incidence | predicted annual incidence highest in southern region | southern regions\n",
      "Score (0.0005845854539683823):new values | new value generate for iteration | next iteration\n",
      "Score (0.0005839439256277827):homogeneous message give time course | time course experiment | entire time course\n",
      "Score (0.0005805238007613899):zika virus | zika virus challenge | zika virus disease primarily transmit by bites\n",
      "Score (0.0005805238007613899):zika virus | zika virus challenge | zika virus disease transmit by bites\n",
      "Score (0.0005802417159291729):where constant correspond to eigenvalue of matrix\n",
      "Score (0.0005739398033427669):sir epidemic model | sir epidemic | sir epidemic models in finite populations | finite population\n",
      "Score (0.0005731806988115176):animal | animal 's phenotype | animal shelters | animal hosts infectious in two weeks\n",
      "Score (0.000569311076846783):continuity follow from continuity\n",
      "Score (0.0005678843886115327):such correlations have have characterized\n",
      "Score (0.0005668036899189635):pathogen invade is increase\n",
      "Score (0.0005637506975097537):transmission network similar to phylogeny | timed phylogeny | ladder-like phylogeny | spindly phylogeny\n",
      "Score (0.0005622474571947611):infection attack rate | simulated infection attack rates | infection attack rates in hong kong | hong kong sar\n",
      "Score (0.0005602129252430908):important limitation in weather | weather conditions\n",
      "Score (0.0005601209004505321):chain model | markov chain model describe in chain model | markov chain model\n",
      "Score (0.0005597322608322075):host cell show signs | specific signs\n",
      "Score (0.0005568970758958128):phylogeny | timed phylogeny | ladder-like phylogeny | spindly phylogeny be phylogeny | timed phylogeny | ladder-like phylogeny | spindly phylogeny\n",
      "Score (0.0005554541553431174):phylogeny | timed phylogeny | ladder-like phylogeny | spindly phylogeny use molecular clock | molecular clock rate\n",
      "Score (0.0005536826832234586):similarities have result in exploitation\n",
      "Score (0.0005482981757973079):animal | animal 's phenotype | animal shelters | animal hosts have susceptibility to infection\n",
      "Score (0.0005473447084705538):site | bamhi site | chosen site | given site value suggests\n",
      "Score (0.0005463559778023364):site | bamhi site | chosen site | given site in state s | s state | susceptible state s\n",
      "Score (0.0005419993752833272):spreading efficiency | average spreading efficiency be spreading ability of nodes | spreading efficiency of nodes\n",
      "Score (0.0005359455030005926):reproductive potential in animal | animal 's phenotype | animal shelters | animal hosts\n",
      "Score (0.0005359223974078554):h3n2 incidence forecast show in yellow | yellow fever.we | laboratory-confirmed yellow fever.we\n",
      "Score (0.0005335485583642556):new values | new value take depend\n",
      "Score (0.0005316586536838904):correlation scheme | variable correlation scheme be may applied\n",
      "Score (0.0005316586536838904):correlation scheme | variable correlation scheme may may applied\n",
      "Score (0.0005273975700659886):human beings | beings locate in territories\n",
      "Score (0.0005248226565132174):risk perception | public risk perception affect by social factors\n",
      "Score (0.00052375831526494):signs | specific signs record during two weeks\n",
      "Score (0.0005192880303882526):simulation study | short simulation study compare stochastic simulations | stochastic simulation | deterministic simulations\n",
      "Score (0.000517870430964605):challenges | logistical challenges obtain health services | public health laboratory services branch | public health services\n",
      "Score (0.0005154242063609355):hong kong | hong kong sar play central role | central grove | mashonaland central\n",
      "Score (0.000511546356942039):new values | new value estimate for county\n",
      "Score (0.0005077302601688029):regions with yellow | yellow fever.we | laboratory-confirmed yellow fever.we\n",
      "Score (0.0005070064417180348):disease surveillance change coincident\n",
      "Score (0.000506456604617269):deterministic model apply in simulation study | short simulation study\n",
      "Score (0.0005059694220225344):social factors prevail in three countries | two countries | five countries | six countries | four countries\n",
      "Score (0.000505791486102095):rumor spreading model by susceptible-infected model | susceptible-infected epidemiological model\n",
      "Score (0.0005052821435113947):dissemination | between-herd dissemination result in disease awareness\n",
      "Score (0.0005018345013484523):stochastic nature | deterministic nature in finite populations | finite population\n",
      "Score (0.0005011792567535368):connected graph | connected graphs can can recovered\n",
      "Score (0.0005001787486930532):reconstructed network be where connected | when connected\n",
      "Score (0.0004999299906584998):activity in hong kong | hong kong sar\n",
      "Score (0.0004996660435470938):isomorphism hold in finite populations | finite population\n",
      "Score (0.0004987204188361936):blood samples collect from animal | animal 's phenotype | animal shelters | animal hosts\n",
      "Score (0.0004981313836636793):mh draft manuscript | final manuscript\n",
      "Score (0.000496010353628872):previous work | previous works focus on social factors\n",
      "Score (0.000495802880680469):site | bamhi site | chosen site | given site transition at site | bamhi site | chosen site | given site\n",
      "Score (0.0004931238700948311):chickenpox cases | reported chickenpox cases in hong kong | hong kong sar\n",
      "Score (0.0004927157310977107):parameterized mte model | parameterized model reproduce positive relationship | negative relationship\n",
      "Score (0.0004916560640822032):parasite burden | average parasite burden in human hosts | human host\n",
      "Score (0.0004912201087349598):health facilities | public health facilities | health care facilities in rural areas | rural area\n",
      "Score (0.0004905977961564244):positive relationship | negative relationship with trough infections\n",
      "Score (0.0004904176705242806):world | globalized world for number hong kong | hong kong sar\n",
      "Score (0.0004902796178812443):best-fit model | best-fit model parameters | best-fit models use aic\n",
      "Score (0.0004896408554838749):star-like be well suited\n",
      "Score (0.0004883986728614828):computation in reconstructed network\n",
      "Score (0.0004880554027455494):sa | β sa temperature of sa | β sa\n",
      "Score (0.00048799005964922555):drug need larger than that | higher than that | lower than that\n",
      "Score (0.0004876941253810252):sequence evolution follow molecular clock | molecular clock rate\n",
      "Score (0.00048730013769234133):explicit model | explicit transmission model | explicit models include molecules\n",
      "Score (0.0004869265636268988):animal | animal 's phenotype | animal shelters | animal hosts leave herd | transhumance herd | herd behavior | dairy herd\n",
      "Score (0.0004869265636268988):animal | animal 's phenotype | animal shelters | animal hosts introduce into herd | transhumance herd | herd behavior | dairy herd\n",
      "Score (0.0004856058077935179):approximate approaches greatly reduce challenges | logistical challenges\n",
      "Score (0.0004856058077935179):approximate approaches reduce challenges | logistical challenges\n",
      "Score (0.00048459677636608883):yellow | yellow fever.we | laboratory-confirmed yellow fever.we denote blue | blue ribbon | light blue\n",
      "Score (0.00048410711076008974):climatic conditions modulate vector biology\n",
      "Score (0.00048390610669457525):smith develop deterministic model\n",
      "Score (0.0004827080694562268):hr be most common | most common cause\n",
      "Score (0.00048268322898303926):deterministic model mention in subsection | previous subsection | following subsection | next subsection\n",
      "Score (0.0004807989016929234):qualitative results | qualitative result | our qualitative results robust to level of infection\n",
      "Score (0.00048037090419916046):willingness participate to social factors\n",
      "Score (0.0004796838673500676):exploitation may result in host fitness\n",
      "Score (0.00047871654765812904):data sets present challenges | logistical challenges\n",
      "Score (0.0004784697164572848):multiple transitions can render site | bamhi site | chosen site | given site\n",
      "Score (0.00047806671360652486):a3 in additional file 1 | file 1 | additional file 2 | file 2\n",
      "Score (0.00047711646765727963):local environment size of animal | animal 's phenotype | animal shelters | animal hosts\n",
      "Score (0.0004770076468101012):determination in animal | animal 's phenotype | animal shelters | animal hosts\n"
     ]
    }
   ],
   "source": [
    "results = {}\n",
    "\n",
    "for i, t in enumerate(top):\n",
    "    triple_id = idxs[i]\n",
    "    h, t, r = t\n",
    "    score = trip_scores[triple_id]\n",
    "    label = \" \".join([ents[h], rels[r], ents[t]])\n",
    "    results[triple_id] = {'idxs': t, 'label': label, 'score': score}\n",
    "\n",
    "for result in results.values():\n",
    "    print(\"Score ({}):{}\".format(result['score'], result['label']))"
   ]
  },
  {
   "cell_type": "code",
   "execution_count": null,
   "metadata": {},
   "outputs": [],
   "source": []
  },
  {
   "cell_type": "code",
   "execution_count": null,
   "metadata": {},
   "outputs": [],
   "source": []
  }
 ],
 "metadata": {
  "kernelspec": {
   "display_name": "Python 3",
   "language": "python",
   "name": "python3"
  },
  "language_info": {
   "codemirror_mode": {
    "name": "ipython",
    "version": 3
   },
   "file_extension": ".py",
   "mimetype": "text/x-python",
   "name": "python",
   "nbconvert_exporter": "python",
   "pygments_lexer": "ipython3",
   "version": "3.7.5"
  }
 },
 "nbformat": 4,
 "nbformat_minor": 2
}
