{
 "cells": [
  {
   "cell_type": "code",
   "execution_count": 170,
   "metadata": {},
   "outputs": [],
   "source": [
    "import pandas as pd\n",
    "import requests\n",
    "import xmljson\n",
    "from xmljson import badgerfish as bf\n",
    "from bs4 import BeautifulSoup as bs\n",
    "from collections import OrderedDict\n",
    "import copy\n",
    "import re"
   ]
  },
  {
   "cell_type": "code",
   "execution_count": 44,
   "metadata": {},
   "outputs": [],
   "source": [
    "def prep_terms(terms):\n",
    "    return '+AND+'.join(['all:' + term for term in terms])\n",
    "\n",
    "def process_article_metadata(metadata):\n",
    "    \"\"\"Extract metadata for one article and organize metadata into a dictionary.\n",
    "    Inputs:\n",
    "        metadata    String; Read in from API call\n",
    "    Outputs:\n",
    "        d  Dictionary of article metadata\n",
    "    \"\"\"\n",
    "\n",
    "    # for each article extract and organize metadata\n",
    "    metadata = bs(metadata.strip(), 'lxml')\n",
    "\n",
    "    # each article's metadata contained in a dictionary\n",
    "    d = {}\n",
    "\n",
    "    # add single-value attributes\n",
    "    single_value_attributes = ['id', 'updated', 'published', 'title', 'summary', 'doi']\n",
    "    for single_value_attribute in single_value_attributes:\n",
    "        try:\n",
    "            v = metadata.find(single_value_attribute).contents[0]\n",
    "        except AttributeError:\n",
    "            v = None\n",
    "        d[single_value_attribute] = v\n",
    "\n",
    "    # add multiple-value attributes and edge-case single-value attributes\n",
    "    d['arxiv:primary_category'] = metadata.find('arxiv:primary_category').attrs['term']\n",
    "    d['arxiv_categories'] = [x['term'] for x in metadata.find_all('category')]\n",
    "    d_links = {}\n",
    "    for link in metadata.find_all('link'):\n",
    "        if 'title' in link.attrs:\n",
    "            k, v = link.attrs['title'], link.attrs['href']\n",
    "            d_links[k] = v\n",
    "    d['links'] = d_links\n",
    "    d['authors'] = [x.contents[0] for x in metadata.find_all('name')]\n",
    "\n",
    "    return d"
   ]
  },
  {
   "cell_type": "code",
   "execution_count": null,
   "metadata": {},
   "outputs": [],
   "source": []
  },
  {
   "cell_type": "code",
   "execution_count": 183,
   "metadata": {},
   "outputs": [
    {
     "name": "stdout",
     "output_type": "stream",
     "text": [
      "Pair approximation of the stochastic susceptible-infected-recovered-susceptible epidemic model on the hypercubic lattice\n",
      "Behavior of susceptible-vaccinated--infected--recovered epidemics with diversity in the infection rate of the individuals\n",
      "Fluctuating epidemics on adaptive networks\n",
      "Stochastic dynamics of dengue epidemics\n",
      "An epidemic in a dynamic population with importation of infectives\n",
      "On the critical behavior of the Susceptible-Infected-Recovered (SIR) model on a square lattice\n",
      "Impact of asymptomatic infection on coupled disease-behavior dynamics in complex networks\n",
      "Identification of highly susceptible individuals in complex networks\n",
      "Elementary proof of convergence to the mean-field model for the SIR process\n",
      "Solution of an infection model near threshold\n"
     ]
    }
   ],
   "source": [
    "# build query\n",
    "terms = ['susceptible', 'infected', 'recovered']\n",
    "\n",
    "url = 'http://export.arxiv.org/api/query?search_query=' + prep_terms(terms)\n",
    "params = {'start': 10, 'max_results': 10}\n",
    "\n",
    "# query api\n",
    "r = requests.get(url, params=params)\n",
    "xml_text = r.text\n",
    "\n",
    "# parse xml\n",
    "soup = bs(xml_text, 'lxml')\n",
    "for i in soup.find_all('title'):\n",
    "    if not i.has_attr('type'):\n",
    "        s = ''.join(i.contents).replace('\\n', ' ')  # make string from list results\n",
    "        s = re.sub(' +', ' ', s).strip()  # remove extra whitespace\n",
    "        print(s)"
   ]
  },
  {
   "cell_type": "code",
   "execution_count": 171,
   "metadata": {
    "scrolled": false
   },
   "outputs": [],
   "source": [
    "# prep metadata returned by api query\n",
    "articles_metadata = re.sub(' +', ' ', xml_text.replace('arxiv:doi', 'doi').replace('\\n', ' ')).strip().split('<entry>')[1:]\n",
    "\n",
    "# iterate over each article and extract and organize metadata\n",
    "d_metadata = OrderedDict()\n",
    "for article_metadata in articles_metadata:\n",
    "    v = copy.deepcopy(process_article_metadata(article_metadata))\n",
    "    k = v.pop('doi')\n",
    "    d_metadata[k] = v\n",
    "\n",
    "# d_metadata can be accessed like a list using the approach below:\n",
    "# items = list(d_metadata.items())\n",
    "# items[0]"
   ]
  },
  {
   "cell_type": "code",
   "execution_count": 120,
   "metadata": {},
   "outputs": [],
   "source": [
    "\n",
    "for link in article_metadata.find_all('link'):\n",
    "    pass"
   ]
  },
  {
   "cell_type": "code",
   "execution_count": 133,
   "metadata": {},
   "outputs": [],
   "source": [
    "\n",
    "if 'author' in link.attrs:\n",
    "    k, v = link.attrs['title'], link.attrs['href']\n",
    "    d_links[k] = v"
   ]
  },
  {
   "cell_type": "code",
   "execution_count": 134,
   "metadata": {},
   "outputs": [
    {
     "data": {
      "text/plain": [
       "{'title': 'pdf',\n",
       " 'href': 'http://arxiv.org/pdf/1411.2370v2',\n",
       " 'rel': ['related'],\n",
       " 'type': 'application/pdf'}"
      ]
     },
     "execution_count": 134,
     "metadata": {},
     "output_type": "execute_result"
    }
   ],
   "source": [
    "link.attrs"
   ]
  },
  {
   "cell_type": "code",
   "execution_count": 132,
   "metadata": {},
   "outputs": [
    {
     "data": {
      "text/plain": [
       "'http://arxiv.org/pdf/1411.2370v2'"
      ]
     },
     "execution_count": 132,
     "metadata": {},
     "output_type": "execute_result"
    }
   ],
   "source": [
    "v"
   ]
  },
  {
   "cell_type": "code",
   "execution_count": 124,
   "metadata": {},
   "outputs": [
    {
     "data": {
      "text/plain": [
       "<link href=\"http://arxiv.org/pdf/1411.2370v2\" rel=\"related\" title=\"pdf\" type=\"application/pdf\"/>"
      ]
     },
     "execution_count": 124,
     "metadata": {},
     "output_type": "execute_result"
    }
   ],
   "source": [
    "link"
   ]
  },
  {
   "cell_type": "code",
   "execution_count": 119,
   "metadata": {},
   "outputs": [
    {
     "data": {
      "text/plain": [
       "{'title': 'doi',\n",
       " 'href': 'http://dx.doi.org/10.1109/TIT.2017.2698504',\n",
       " 'rel': ['related']}"
      ]
     },
     "execution_count": 119,
     "metadata": {},
     "output_type": "execute_result"
    }
   ],
   "source": [
    "link.attrs"
   ]
  },
  {
   "cell_type": "code",
   "execution_count": 108,
   "metadata": {
    "scrolled": true
   },
   "outputs": [
    {
     "data": {
      "text/plain": [
       "{'title': 'doi',\n",
       " 'href': 'http://dx.doi.org/10.1109/TIT.2017.2698504',\n",
       " 'rel': ['related']}"
      ]
     },
     "execution_count": 108,
     "metadata": {},
     "output_type": "execute_result"
    }
   ],
   "source": [
    "article_metadata.find_all('link')[0].attrs"
   ]
  },
  {
   "cell_type": "code",
   "execution_count": 14,
   "metadata": {},
   "outputs": [
    {
     "data": {
      "text/plain": [
       "'ArXiv Query: search_query=all:electron&id_list=&start=0&max_results=1'"
      ]
     },
     "execution_count": 14,
     "metadata": {},
     "output_type": "execute_result"
    }
   ],
   "source": [
    "\n",
    "summary = ''.join(soup.find('summary').contents).strip().replace('\\n', ' ')\n",
    "title = ''.join(soup.find('title').contents).strip().replace('\\n', ' ')\n",
    "title"
   ]
  },
  {
   "cell_type": "code",
   "execution_count": 15,
   "metadata": {},
   "outputs": [
    {
     "data": {
      "text/plain": [
       "[<title type=\"html\">ArXiv Query: search_query=all:electron&amp;id_list=&amp;start=0&amp;max_results=1</title>,\n",
       " <title>Impact of Electron-Electron Cusp on Configuration Interaction Energies</title>]"
      ]
     },
     "execution_count": 15,
     "metadata": {},
     "output_type": "execute_result"
    }
   ],
   "source": [
    "\n",
    "soup.find_all('title')"
   ]
  },
  {
   "cell_type": "code",
   "execution_count": null,
   "metadata": {},
   "outputs": [],
   "source": [
    "'http://export.arxiv.org/api/query?search_query=all:electron&start=0&max_results=10'"
   ]
  },
  {
   "cell_type": "code",
   "execution_count": null,
   "metadata": {},
   "outputs": [],
   "source": [
    "import xml"
   ]
  },
  {
   "cell_type": "code",
   "execution_count": null,
   "metadata": {},
   "outputs": [],
   "source": [
    "e = xml.etree.ElementTree.parse('xml.xml')"
   ]
  },
  {
   "cell_type": "code",
   "execution_count": null,
   "metadata": {},
   "outputs": [],
   "source": [
    "e.findall('title')"
   ]
  },
  {
   "cell_type": "code",
   "execution_count": null,
   "metadata": {},
   "outputs": [],
   "source": [
    "bf.data(r.text)"
   ]
  },
  {
   "cell_type": "code",
   "execution_count": null,
   "metadata": {},
   "outputs": [],
   "source": [
    "r.text"
   ]
  },
  {
   "cell_type": "code",
   "execution_count": null,
   "metadata": {},
   "outputs": [],
   "source": [
    "import urllib\n",
    "\n",
    "base = 'http://export.arxiv.org/api/'\n",
    "method = 'query'\n",
    "search_term = 'electron'\n",
    "parameters\n",
    "parameters = 'search_query=all:' + electron&start=0&max_results=10'\n",
    "query = base + method + '?' + parameters\n",
    "data = urllib.request.urlopen(query).read()\n",
    "print(data)"
   ]
  },
  {
   "cell_type": "code",
   "execution_count": null,
   "metadata": {},
   "outputs": [],
   "source": []
  },
  {
   "cell_type": "code",
   "execution_count": null,
   "metadata": {},
   "outputs": [],
   "source": [
    "data."
   ]
  }
 ],
 "metadata": {
  "kernelspec": {
   "display_name": "multivac",
   "language": "python",
   "name": "multivac"
  },
  "language_info": {
   "codemirror_mode": {
    "name": "ipython",
    "version": 3
   },
   "file_extension": ".py",
   "mimetype": "text/x-python",
   "name": "python",
   "nbconvert_exporter": "python",
   "pygments_lexer": "ipython3",
   "version": "3.7.1"
  }
 },
 "nbformat": 4,
 "nbformat_minor": 2
}
