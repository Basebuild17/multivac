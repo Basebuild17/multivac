{
 "cells": [
  {
   "cell_type": "code",
   "execution_count": 178,
   "metadata": {},
   "outputs": [],
   "source": [
    "import pandas as pd\n",
    "import requests\n",
    "import xmljson\n",
    "from xmljson import badgerfish as bf\n",
    "from bs4 import BeautifulSoup as bs\n",
    "from collections import OrderedDict\n",
    "import copy\n",
    "import re\n",
    "import feedparser\n",
    "import time"
   ]
  },
  {
   "cell_type": "code",
   "execution_count": 192,
   "metadata": {},
   "outputs": [],
   "source": [
    "def prep_terms(terms):\n",
    "    return '+AND+'.join(['all:' + term for term in terms])\n",
    "\n",
    "\n",
    "def get_total_number_of_results(url, params):\n",
    "    xml_text = requests.get(url, params=params).text\n",
    "    return int(bs(xml_text, 'lxml').find('opensearch:totalresults').contents[0])\n",
    "\n",
    "\n",
    "def process_article_metadata(metadata):\n",
    "    \"\"\"Extract metadata for one article and organize metadata into a dictionary.\n",
    "    Inputs:\n",
    "        metadata    String; Read in from API call\n",
    "    Outputs:\n",
    "        d  Dictionary of article metadata\n",
    "    \"\"\"\n",
    "\n",
    "    # for each article extract and organize metadata\n",
    "    metadata = bs(metadata.strip(), 'lxml')\n",
    "\n",
    "    # each article's metadata contained in a dictionary\n",
    "    d = {}\n",
    "\n",
    "    # add single-value attributes\n",
    "    single_value_attributes = ['id', 'updated', 'published', 'title', 'summary', 'doi']\n",
    "    for single_value_attribute in single_value_attributes:\n",
    "        try:\n",
    "            v = metadata.find(single_value_attribute).contents[0].strip()\n",
    "        except AttributeError:\n",
    "            # some articles don't have doi numbers so fall back on arxiv doi\n",
    "            if single_value_attribute=='doi':\n",
    "                v = d['id']\n",
    "            else:\n",
    "                v = None\n",
    "        d[single_value_attribute] = v\n",
    "\n",
    "    # add multiple-value attributes and edge-case single-value attributes\n",
    "    d['arxiv:primary_category'] = metadata.find('arxiv:primary_category').attrs['term']\n",
    "    d['arxiv_categories'] = [x['term'] for x in metadata.find_all('category')]\n",
    "    d_links = {}\n",
    "    for link in metadata.find_all('link'):\n",
    "        if 'title' in link.attrs:\n",
    "            k, v = link.attrs['title'], link.attrs['href']\n",
    "            d_links[k] = v\n",
    "    d['links'] = d_links\n",
    "    d['authors'] = [x.contents[0] for x in metadata.find_all('name')]\n",
    "\n",
    "    return d\n",
    "\n",
    "\n",
    "def get_metadata_from_page(xml_text):\n",
    "    \"\"\"\n",
    "    Usage of output:\n",
    "        As an OrderedDict, d_page_metadata has the usual dictionary functionality\n",
    "        It can also be accessed like a list using the approach below (Python 3 approach below):\n",
    "            items = list(d_page_metadata.items())\n",
    "            items[0]\n",
    "    \"\"\"\n",
    "    \n",
    "    # prep metadata returned by api query\n",
    "    articles_metadata = re.sub(' +', ' ', xml_text.replace('arxiv:doi', 'doi').replace('\\n', ' ')).strip().split('<entry>')[1:]\n",
    "\n",
    "    # iterate over each article and extract and organize metadata\n",
    "    d_page_metadata = OrderedDict()\n",
    "    for article_metadata in articles_metadata:\n",
    "        v = copy.deepcopy(process_article_metadata(article_metadata))\n",
    "        k = v.pop('doi')\n",
    "        d_page_metadata[k] = v\n",
    "    \n",
    "    return d_page_metadata\n",
    "\n",
    "\n",
    "def query_api(url, params, wait_time=3, verbose=False):\n",
    "    \n",
    "    # get total number of results\n",
    "    n_results = get_total_number_of_results(url, {'start': 0, 'max_results': 1})\n",
    "    if verbose: \n",
    "        print('%s total results, %s second wait time between each call' % (str(n_results), str(wait_time)))\n",
    "    \n",
    "    # build list to iterate over\n",
    "    starts = list(range(0, n_results, params['max_results']))  # start, stop, step\n",
    "\n",
    "    metadata = []\n",
    "\n",
    "    # iterate over list to get all results\n",
    "    for start in starts:\n",
    "        if verbose: print(params['max_results'] * '*', end='')\n",
    "        params_ = copy.deepcopy(params) \n",
    "        params_['start'] = start\n",
    "\n",
    "        # ping api and retrieve xml for all articles in page\n",
    "        xml_text = requests.get(url, params=params_).text\n",
    "\n",
    "        # process xml page feed\n",
    "        page_feed = feedparser.parse(xml_text)\n",
    "        d = {'source': source, 'terms': terms, 'url': url, 'params': params_, 'page_feed': page_feed}\n",
    "        metadata.append(d)\n",
    "        time.sleep(wait_time)\n",
    "    if verbose: print('')\n",
    "    return metadata"
   ]
  },
  {
   "cell_type": "code",
   "execution_count": 193,
   "metadata": {},
   "outputs": [],
   "source": [
    "params_ = copy.deepcopy(params) \n",
    "params_['start'] = start\n",
    "\n",
    "# ping api and retrieve xml for all articles in page\n",
    "xml_text = requests.get(url, params=params_).text"
   ]
  },
  {
   "cell_type": "code",
   "execution_count": 194,
   "metadata": {},
   "outputs": [
    {
     "name": "stdout",
     "output_type": "stream",
     "text": [
      "179 total results, 3 second wait time between each call\n",
      "************************************************************************************************************************************************************************************\n"
     ]
    }
   ],
   "source": [
    "# build query\n",
    "source = 'arxiv'\n",
    "terms = ['susceptible', 'infected', 'recovered']\n",
    "url = 'http://export.arxiv.org/api/query?search_query=' + prep_terms(terms)\n",
    "params = {'start': 0, 'max_results': 20, 'sortBy': 'relevance', 'sortOrder': 'descending'}\n",
    "wait_time = 3\n",
    "\n",
    "md = query_api(url, params, verbose=True)\n",
    "\n",
    "# for i in soup.find_all('title'):\n",
    "#     if not i.has_attr('type'):\n",
    "#         s = ''.join(i.contents).replace('\\n', ' ')  # make string from list results\n",
    "#         s = re.sub(' +', ' ', s).strip()  # remove extra whitespace\n",
    "#         print(s)"
   ]
  },
  {
   "cell_type": "code",
   "execution_count": 204,
   "metadata": {},
   "outputs": [],
   "source": [
    "terms = ['sir', 'model', 'disease']\n",
    "url = 'http://export.arxiv.org/api/query?search_query=' + prep_terms(terms)\n",
    "md2 = query_api(url, params, verbose=True)"
   ]
  },
  {
   "cell_type": "code",
   "execution_count": 207,
   "metadata": {},
   "outputs": [
    {
     "data": {
      "text/plain": [
       "'185'"
      ]
     },
     "execution_count": 207,
     "metadata": {},
     "output_type": "execute_result"
    }
   ],
   "source": [
    "md2[0]['page_feed']['feed']['opensearch_totalresults']"
   ]
  },
  {
   "cell_type": "code",
   "execution_count": 201,
   "metadata": {},
   "outputs": [],
   "source": [
    "terms = ['susceptible-infected-recovered']\n",
    "url = 'http://export.arxiv.org/api/query?search_query=' + prep_terms(terms)\n",
    "md3 = query_api(url, params)"
   ]
  },
  {
   "cell_type": "code",
   "execution_count": 203,
   "metadata": {},
   "outputs": [
    {
     "data": {
      "text/plain": [
       "'http://export.arxiv.org/api/query?search_query=all:susceptible-infected-recovered'"
      ]
     },
     "execution_count": 203,
     "metadata": {},
     "output_type": "execute_result"
    }
   ],
   "source": [
    "url = 'http://api.springernature.com/meta/v1/json?q='\n",
    "api_key = '123'\n",
    "'openaccess:true'"
   ]
  },
  {
   "cell_type": "code",
   "execution_count": 196,
   "metadata": {},
   "outputs": [
    {
     "ename": "TypeError",
     "evalue": "list indices must be integers or slices, not str",
     "output_type": "error",
     "traceback": [
      "\u001b[1;31m---------------------------------------------------------------------------\u001b[0m",
      "\u001b[1;31mTypeError\u001b[0m                                 Traceback (most recent call last)",
      "\u001b[1;32m<ipython-input-196-f44bb6755cbc>\u001b[0m in \u001b[0;36m<module>\u001b[1;34m\u001b[0m\n\u001b[1;32m----> 1\u001b[1;33m \u001b[0mmd2\u001b[0m\u001b[1;33m[\u001b[0m\u001b[1;34m'n_results'\u001b[0m\u001b[1;33m]\u001b[0m\u001b[1;33m\u001b[0m\u001b[1;33m\u001b[0m\u001b[0m\n\u001b[0m",
      "\u001b[1;31mTypeError\u001b[0m: list indices must be integers or slices, not str"
     ]
    }
   ],
   "source": [
    "md2['n_results']"
   ]
  },
  {
   "cell_type": "code",
   "execution_count": 197,
   "metadata": {},
   "outputs": [
    {
     "data": {
      "text/plain": [
       "'493'"
      ]
     },
     "execution_count": 197,
     "metadata": {},
     "output_type": "execute_result"
    }
   ],
   "source": [
    "md2[0]['page_feed']['feed']['opensearch_totalresults']"
   ]
  },
  {
   "cell_type": "code",
   "execution_count": 198,
   "metadata": {},
   "outputs": [
    {
     "data": {
      "text/plain": [
       "dict_keys(['source', 'n_results', 'terms', 'url', 'params', 'page_feed'])"
      ]
     },
     "execution_count": 198,
     "metadata": {},
     "output_type": "execute_result"
    }
   ],
   "source": [
    "md2[0].keys()"
   ]
  },
  {
   "cell_type": "code",
   "execution_count": 130,
   "metadata": {},
   "outputs": [],
   "source": [
    "# ps2ascii, gzip\n",
    "import gzip\n",
    "import os"
   ]
  },
  {
   "cell_type": "code",
   "execution_count": 132,
   "metadata": {},
   "outputs": [],
   "source": [
    "f = gzip.open(raw_src, 'rb')"
   ]
  },
  {
   "cell_type": "code",
   "execution_count": 133,
   "metadata": {},
   "outputs": [
    {
     "ename": "OSError",
     "evalue": "Not a gzipped file (b'%!')",
     "output_type": "error",
     "traceback": [
      "\u001b[1;31m---------------------------------------------------------------------------\u001b[0m",
      "\u001b[1;31mOSError\u001b[0m                                   Traceback (most recent call last)",
      "\u001b[1;32m<ipython-input-133-374ee45505ae>\u001b[0m in \u001b[0;36m<module>\u001b[1;34m\u001b[0m\n\u001b[1;32m----> 1\u001b[1;33m \u001b[0mps\u001b[0m \u001b[1;33m=\u001b[0m \u001b[0mf\u001b[0m\u001b[1;33m.\u001b[0m\u001b[0mread\u001b[0m\u001b[1;33m(\u001b[0m\u001b[1;33m)\u001b[0m\u001b[1;33m\u001b[0m\u001b[1;33m\u001b[0m\u001b[0m\n\u001b[0m",
      "\u001b[1;32m~\\AppData\\Local\\conda\\conda\\envs\\multivac\\lib\\gzip.py\u001b[0m in \u001b[0;36mread\u001b[1;34m(self, size)\u001b[0m\n\u001b[0;32m    274\u001b[0m             \u001b[1;32mimport\u001b[0m \u001b[0merrno\u001b[0m\u001b[1;33m\u001b[0m\u001b[1;33m\u001b[0m\u001b[0m\n\u001b[0;32m    275\u001b[0m             \u001b[1;32mraise\u001b[0m \u001b[0mOSError\u001b[0m\u001b[1;33m(\u001b[0m\u001b[0merrno\u001b[0m\u001b[1;33m.\u001b[0m\u001b[0mEBADF\u001b[0m\u001b[1;33m,\u001b[0m \u001b[1;34m\"read() on write-only GzipFile object\"\u001b[0m\u001b[1;33m)\u001b[0m\u001b[1;33m\u001b[0m\u001b[1;33m\u001b[0m\u001b[0m\n\u001b[1;32m--> 276\u001b[1;33m         \u001b[1;32mreturn\u001b[0m \u001b[0mself\u001b[0m\u001b[1;33m.\u001b[0m\u001b[0m_buffer\u001b[0m\u001b[1;33m.\u001b[0m\u001b[0mread\u001b[0m\u001b[1;33m(\u001b[0m\u001b[0msize\u001b[0m\u001b[1;33m)\u001b[0m\u001b[1;33m\u001b[0m\u001b[1;33m\u001b[0m\u001b[0m\n\u001b[0m\u001b[0;32m    277\u001b[0m \u001b[1;33m\u001b[0m\u001b[0m\n\u001b[0;32m    278\u001b[0m     \u001b[1;32mdef\u001b[0m \u001b[0mread1\u001b[0m\u001b[1;33m(\u001b[0m\u001b[0mself\u001b[0m\u001b[1;33m,\u001b[0m \u001b[0msize\u001b[0m\u001b[1;33m=\u001b[0m\u001b[1;33m-\u001b[0m\u001b[1;36m1\u001b[0m\u001b[1;33m)\u001b[0m\u001b[1;33m:\u001b[0m\u001b[1;33m\u001b[0m\u001b[1;33m\u001b[0m\u001b[0m\n",
      "\u001b[1;32m~\\AppData\\Local\\conda\\conda\\envs\\multivac\\lib\\gzip.py\u001b[0m in \u001b[0;36mread\u001b[1;34m(self, size)\u001b[0m\n\u001b[0;32m    461\u001b[0m                 \u001b[1;31m# jump to the next member, if there is one.\u001b[0m\u001b[1;33m\u001b[0m\u001b[1;33m\u001b[0m\u001b[1;33m\u001b[0m\u001b[0m\n\u001b[0;32m    462\u001b[0m                 \u001b[0mself\u001b[0m\u001b[1;33m.\u001b[0m\u001b[0m_init_read\u001b[0m\u001b[1;33m(\u001b[0m\u001b[1;33m)\u001b[0m\u001b[1;33m\u001b[0m\u001b[1;33m\u001b[0m\u001b[0m\n\u001b[1;32m--> 463\u001b[1;33m                 \u001b[1;32mif\u001b[0m \u001b[1;32mnot\u001b[0m \u001b[0mself\u001b[0m\u001b[1;33m.\u001b[0m\u001b[0m_read_gzip_header\u001b[0m\u001b[1;33m(\u001b[0m\u001b[1;33m)\u001b[0m\u001b[1;33m:\u001b[0m\u001b[1;33m\u001b[0m\u001b[1;33m\u001b[0m\u001b[0m\n\u001b[0m\u001b[0;32m    464\u001b[0m                     \u001b[0mself\u001b[0m\u001b[1;33m.\u001b[0m\u001b[0m_size\u001b[0m \u001b[1;33m=\u001b[0m \u001b[0mself\u001b[0m\u001b[1;33m.\u001b[0m\u001b[0m_pos\u001b[0m\u001b[1;33m\u001b[0m\u001b[1;33m\u001b[0m\u001b[0m\n\u001b[0;32m    465\u001b[0m                     \u001b[1;32mreturn\u001b[0m \u001b[1;34mb\"\"\u001b[0m\u001b[1;33m\u001b[0m\u001b[1;33m\u001b[0m\u001b[0m\n",
      "\u001b[1;32m~\\AppData\\Local\\conda\\conda\\envs\\multivac\\lib\\gzip.py\u001b[0m in \u001b[0;36m_read_gzip_header\u001b[1;34m(self)\u001b[0m\n\u001b[0;32m    409\u001b[0m \u001b[1;33m\u001b[0m\u001b[0m\n\u001b[0;32m    410\u001b[0m         \u001b[1;32mif\u001b[0m \u001b[0mmagic\u001b[0m \u001b[1;33m!=\u001b[0m \u001b[1;34mb'\\037\\213'\u001b[0m\u001b[1;33m:\u001b[0m\u001b[1;33m\u001b[0m\u001b[1;33m\u001b[0m\u001b[0m\n\u001b[1;32m--> 411\u001b[1;33m             \u001b[1;32mraise\u001b[0m \u001b[0mOSError\u001b[0m\u001b[1;33m(\u001b[0m\u001b[1;34m'Not a gzipped file (%r)'\u001b[0m \u001b[1;33m%\u001b[0m \u001b[0mmagic\u001b[0m\u001b[1;33m)\u001b[0m\u001b[1;33m\u001b[0m\u001b[1;33m\u001b[0m\u001b[0m\n\u001b[0m\u001b[0;32m    412\u001b[0m \u001b[1;33m\u001b[0m\u001b[0m\n\u001b[0;32m    413\u001b[0m         (method, flag,\n",
      "\u001b[1;31mOSError\u001b[0m: Not a gzipped file (b'%!')"
     ]
    }
   ],
   "source": [
    "ps = f.read()"
   ]
  },
  {
   "cell_type": "code",
   "execution_count": 134,
   "metadata": {},
   "outputs": [],
   "source": [
    "f.close()"
   ]
  },
  {
   "cell_type": "code",
   "execution_count": 135,
   "metadata": {},
   "outputs": [],
   "source": [
    "raw_dir = r'E:\\Users\\Peter_Rasmussen\\gh\\multivac\\data\\raw\\arxiv'\n",
    "raw_src = os.path.join(raw_dir, '1411.2370v2.ps.gz')\n",
    "# with gzip.open(raw_src, 'rb') as f:\n",
    "#     ps = f.read()\n",
    "    \n",
    "def opener(filename):\n",
    "    f = open(filename,'rb')\n",
    "    if (f.read(2) == '\\x1f\\x8b'):\n",
    "        f.seek(0)\n",
    "        return gzip.GzipFile(fileobj=f)\n",
    "    else:\n",
    "        f.seek(0)\n",
    "        return f\n",
    "f = opener(raw_src)"
   ]
  },
  {
   "cell_type": "code",
   "execution_count": 137,
   "metadata": {},
   "outputs": [],
   "source": [
    "ps = f.read()\n",
    "f.close()"
   ]
  },
  {
   "cell_type": "code",
   "execution_count": 148,
   "metadata": {},
   "outputs": [],
   "source": [
    "with opener(raw_src) as f:\n",
    "    ps = f.read().decode('iso-8859-1')"
   ]
  },
  {
   "cell_type": "code",
   "execution_count": 152,
   "metadata": {},
   "outputs": [
    {
     "data": {
      "text/plain": [
       "6591707"
      ]
     },
     "execution_count": 152,
     "metadata": {},
     "output_type": "execute_result"
    }
   ],
   "source": [
    "len(ps)"
   ]
  },
  {
   "cell_type": "code",
   "execution_count": 125,
   "metadata": {},
   "outputs": [
    {
     "data": {
      "text/plain": [
       "('10.1109/TIT.2017.2698504',\n",
       " {'id': 'http://arxiv.org/abs/1411.2370v2',\n",
       "  'updated': '2016-10-27T04:57:49Z',\n",
       "  'published': '2014-11-10T10:25:10Z',\n",
       "  'title': 'On the Universality of Jordan Centers for Estimating Infection Sources in Tree Networks',\n",
       "  'summary': 'Finding the infection sources in a network when we only know the network topology and infected nodes, but not the rates of infection, is a challenging combinatorial problem, and it is even more difficult in practice where the underlying infection spreading model is usually unknown a priori. In this paper, we are interested in finding a source estimator that is applicable to various spreading models, including the Susceptible-Infected (SI), Susceptible-Infected-Recovered (SIR), Susceptible-Infected-Recovered-Infected (SIRI), and Susceptible-Infected-Susceptible (SIS) models. We show that under the SI, SIR and SIRI spreading models and with mild technical assumptions, the Jordan center is the infection source associated with the most likely infection path in a tree network with a single infection source. This conclusion applies for a wide range of spreading parameters, while it holds for regular trees under the SIS model with homogeneous infection and recovery rates. Since the Jordan center does not depend on the infection, recovery and reinfection rates, it can be regarded as a universal source estimator. We also consider the case where there are k>1 infection sources, generalize the Jordan center definition to a k-Jordan center set, and show that this is an optimal infection source set estimator in a tree network for the SI model. Simulation results on various general synthetic networks and real world networks suggest that Jordan center-based estimators consistently outperform the betweenness, closeness, distance, degree, eigenvector, and pagerank centrality based heuristics, even if the network is not a tree.',\n",
       "  'arxiv:primary_category': 'cs.SI',\n",
       "  'arxiv_categories': ['cs.SI', 'physics.soc-ph'],\n",
       "  'links': {'doi': 'http://dx.doi.org/10.1109/TIT.2017.2698504',\n",
       "   'pdf': 'http://arxiv.org/pdf/1411.2370v2'},\n",
       "  'authors': ['Wuqiong Luo', 'Wee Peng Tay', 'Mei Leng']})"
      ]
     },
     "execution_count": 125,
     "metadata": {},
     "output_type": "execute_result"
    }
   ],
   "source": [
    "list(d_metadata.items())[0]"
   ]
  },
  {
   "cell_type": "code",
   "execution_count": 116,
   "metadata": {},
   "outputs": [
    {
     "data": {
      "text/plain": [
       "{'start': 100,\n",
       " 'max_results': 100,\n",
       " 'sortBy': 'relevance',\n",
       " 'sortOrder': 'descending'}"
      ]
     },
     "execution_count": 116,
     "metadata": {},
     "output_type": "execute_result"
    }
   ],
   "source": [
    "params_"
   ]
  },
  {
   "cell_type": "code",
   "execution_count": 104,
   "metadata": {},
   "outputs": [
    {
     "data": {
      "text/plain": [
       "179"
      ]
     },
     "execution_count": 104,
     "metadata": {},
     "output_type": "execute_result"
    }
   ],
   "source": [
    "n_results"
   ]
  },
  {
   "cell_type": "code",
   "execution_count": 103,
   "metadata": {},
   "outputs": [
    {
     "data": {
      "text/plain": [
       "102"
      ]
     },
     "execution_count": 103,
     "metadata": {},
     "output_type": "execute_result"
    }
   ],
   "source": [
    "len(d_metadata.keys())"
   ]
  },
  {
   "cell_type": "code",
   "execution_count": 90,
   "metadata": {},
   "outputs": [
    {
     "name": "stdout",
     "output_type": "stream",
     "text": [
      "This is printed second\n"
     ]
    },
    {
     "data": {
      "text/plain": [
       "2"
      ]
     },
     "execution_count": 90,
     "metadata": {},
     "output_type": "execute_result"
    }
   ],
   "source": [
    "next(a)"
   ]
  },
  {
   "cell_type": "code",
   "execution_count": 65,
   "metadata": {
    "scrolled": false
   },
   "outputs": [
    {
     "name": "stdout",
     "output_type": "stream",
     "text": [
      "179\n",
      "********************************************************************************\n",
      "<?xml version=\"1.0\" encoding=\"UTF-8\"?>\n",
      "<feed xmlns=\"http://www.w3.org/2005/Atom\">\n",
      "  <link href=\"http://arxiv.org/api/query?search_query%3Dall%3Asusceptible%20AND%20all%3Ainfected%20AND%20all%3Arecovered%26id_list%3D%26start%3D10%26max_results%3D10\" rel=\"self\" type=\"application/atom+xml\"/>\n",
      "  <title type=\"html\">ArXiv Query: search_query=all:susceptible AND all:infected AND all:recovered&amp;id_list=&amp;start=10&amp;max_results=10</title>\n",
      "  <id>http://arxiv.org/api/7stV8zGmuSvcdG3QhsnFL5iaBTs</id>\n",
      "  <updated>2018-12-06T00:00:00-05:00</updated>\n",
      "  <opensearch:totalResults xmlns:opensearch=\"http://a9.com/-/spec/opensearch/1.1/\">179</opensearch:totalResults>\n",
      "  <opensearch:startIndex xmlns:opensearch=\"http://a9.com/-/spec/opensearch/1.1/\">10</opensearch:startIndex>\n",
      "  <opensearch:itemsPerPage xmlns:opensearch=\"http://a9.com/-/spec/opensearch/1.1/\">10</opensearch:itemsPerPage>\n",
      "  <entry>\n",
      "    <id>http://arxiv.org/abs/q-bio/0404035v1</id>\n",
      "    <updated>2004-04-26T18:03:44Z</updated>\n",
      "    <published>2004-04-26T18:03:44Z</published>\n",
      "    <title>Pair approximation of the stochastic\n",
      "  susceptible-infected-recovered-susceptible epidemic model on the hypercubic\n",
      "  lattice</title>\n",
      "    <summary>  We investigate the time-evolution and steady states of the stochastic\n",
      "susceptible-infected-recovered-susceptible(SIRS) epidemic model on one- and\n",
      "two- dimensional lattices. We compare the behavior of this system, obtained\n",
      "from computer simulations, with those obtained from the mean-field\n",
      "approximation(MFA) and pair-approximation(PA). The former(latter) approximates\n",
      "higher order moments in terms of first(second) order ones. We find that the PA\n",
      "gives consistently better results than the MFA. In one dimension the\n",
      "improvement is even qualitative.\n",
      "</summary>\n",
      "    <author>\n",
      "      <name>Jaewook Joo</name>\n",
      "    </author>\n",
      "    <author>\n",
      "      <name>Joel L. Lebowitz</name>\n",
      "    </author>\n",
      "    <arxiv:doi xmlns:arxiv=\"http://arxiv.org/schemas/atom\">10.1103/PhysRevE.70.036114</arxiv:doi>\n",
      "    <link title=\"doi\" href=\"http://dx.doi.org/10.1103/PhysRevE.70.036114\" rel=\"related\"/>\n",
      "    <arxiv:journal_ref xmlns:arxiv=\"http://arxiv.org/schemas/atom\">Phys. Rev. E, 70 (2004) 036114</arxiv:journal_ref>\n",
      "    <link href=\"http://arxiv.org/abs/q-bio/0404035v1\" rel=\"alternate\" type=\"text/html\"/>\n",
      "    <link title=\"pdf\" href=\"http://arxiv.org/pdf/q-bio/0404035v1\" rel=\"related\" type=\"application/pdf\"/>\n",
      "    <arxiv:primary_category xmlns:arxiv=\"http://arxiv.org/schemas/atom\" term=\"q-bio.PE\" scheme=\"http://arxiv.org/schemas/atom\"/>\n",
      "    <category term=\"q-bio.PE\" scheme=\"http://arxiv.org/schemas/atom\"/>\n",
      "    <category term=\"cond-mat.stat-mech\" scheme=\"http://arxiv.org/schemas/atom\"/>\n",
      "  </entry>\n",
      "  <entry>\n",
      "    <id>http://arxiv.org/abs/1312.0691v2</id>\n",
      "    <updated>2013-12-04T02:37:31Z</updated>\n",
      "    <published>2013-12-03T03:58:25Z</published>\n",
      "    <title>Behavior of susceptible-vaccinated--infected--recovered epidemics with\n",
      "  diversity in the infection rate of the individuals</title>\n",
      "    <summary>  We study a susceptible-vaccinated--infected--recovered (SVIR)\n",
      "epidemic-spreading model with diversity of infection rate of the individuals.\n",
      "By means of analytical arguments as well as extensive computer simulations, we\n",
      "demonstrate that the heterogeneity in infection rate can either impede or\n",
      "accelerate the epidemic spreading, which depends on the amount of vaccinated\n",
      "individuals introduced in the population as well as the contact pattern among\n",
      "the individuals. Remarkably, as long as the individuals with different\n",
      "capability of acquiring the disease interact with unequal frequency, there\n",
      "always exist a cross point for the fraction of vaccinated, below which the\n",
      "diversity of infection rate hinders the epidemic spreading and above which\n",
      "expedites it. The overall results are robust to the SVIR dynamics defined on\n",
      "different population models; the possible applications of the results are\n",
      "discussed.\n",
      "</summary>\n",
      "    <author>\n",
      "      <name>Chao-Ran Cai</name>\n",
      "    </author>\n",
      "    <author>\n",
      "      <name>Zhi-Xi wu</name>\n",
      "    </author>\n",
      "    <author>\n",
      "      <name>Jian-Yue Guan</name>\n",
      "    </author>\n",
      "    <arxiv:doi xmlns:arxiv=\"http://arxiv.org/schemas/atom\">10.1103/PhysRevE.88.062805</arxiv:doi>\n",
      "    <link title=\"doi\" href=\"http://dx.doi.org/10.1103/PhysRevE.88.062805\" rel=\"related\"/>\n",
      "    <arxiv:comment xmlns:arxiv=\"http://arxiv.org/schemas/atom\">9 pages, many figures</arxiv:comment>\n",
      "    <arxiv:journal_ref xmlns:arxiv=\"http://arxiv.org/schemas/atom\">Phys. Rev. E 88, 062805 (2013)</arxiv:journal_ref>\n",
      "    <link href=\"http://arxiv.org/abs/1312.0691v2\" rel=\"alternate\" type=\"text/html\"/>\n",
      "    <link title=\"pdf\" href=\"http://arxiv.org/pdf/1312.0691v2\" rel=\"related\" type=\"application/pdf\"/>\n",
      "    <arxiv:primary_category xmlns:arxiv=\"http://arxiv.org/schemas/atom\" term=\"physics.soc-ph\" scheme=\"http://arxiv.org/schemas/atom\"/>\n",
      "    <category term=\"physics.soc-ph\" scheme=\"http://arxiv.org/schemas/atom\"/>\n",
      "    <category term=\"q-bio.PE\" scheme=\"http://arxiv.org/schemas/atom\"/>\n",
      "  </entry>\n",
      "  <entry>\n",
      "    <id>http://arxiv.org/abs/0801.0606v1</id>\n",
      "    <updated>2008-01-03T21:42:00Z</updated>\n",
      "    <published>2008-01-03T21:42:00Z</published>\n",
      "    <title>Fluctuating epidemics on adaptive networks</title>\n",
      "    <summary>  A model for epidemics on an adaptive network is considered. Nodes follow an\n",
      "SIRS (susceptible-infective-recovered-susceptible) pattern. Connections are\n",
      "rewired to break links from non-infected nodes to infected nodes and are\n",
      "reformed to connect to other non-infected nodes, as the nodes that are not\n",
      "infected try to avoid the infection. Monte Carlo simulation and numerical\n",
      "solution of a mean field model are employed. The introduction of rewiring\n",
      "affects both the network structure and the epidemic dynamics. Degree\n",
      "distributions are altered, and the average distance from a node to the nearest\n",
      "infective increases. The rewiring leads to regions of bistability where either\n",
      "an endemic or a disease-free steady state can exist. Fluctuations around the\n",
      "endemic state and the lifetime of the endemic state are considered. The\n",
      "fluctuations are found to exhibit power law behavior.\n",
      "</summary>\n",
      "    <author>\n",
      "      <name>Leah B. Shaw</name>\n",
      "    </author>\n",
      "    <author>\n",
      "      <name>Ira B. Schwartz</name>\n",
      "    </author>\n",
      "    <arxiv:doi xmlns:arxiv=\"http://arxiv.org/schemas/atom\">10.1103/PhysRevE.77.066101</arxiv:doi>\n",
      "    <link title=\"doi\" href=\"http://dx.doi.org/10.1103/PhysRevE.77.066101\" rel=\"related\"/>\n",
      "    <arxiv:comment xmlns:arxiv=\"http://arxiv.org/schemas/atom\">Submitted to Phys Rev E</arxiv:comment>\n",
      "    <link href=\"http://arxiv.org/abs/0801.0606v1\" rel=\"alternate\" type=\"text/html\"/>\n",
      "    <link title=\"pdf\" href=\"http://arxiv.org/pdf/0801.0606v1\" rel=\"related\" type=\"application/pdf\"/>\n",
      "    <arxiv:primary_category xmlns:arxiv=\"http://arxiv.org/schemas/atom\" term=\"q-bio.PE\" scheme=\"http://arxiv.org/schemas/atom\"/>\n",
      "    <category term=\"q-bio.PE\" scheme=\"http://arxiv.org/schemas/atom\"/>\n",
      "    <category term=\"physics.soc-ph\" scheme=\"http://arxiv.org/schemas/atom\"/>\n",
      "  </entry>\n",
      "  <entry>\n",
      "    <id>http://arxiv.org/abs/1208.1694v2</id>\n",
      "    <updated>2012-12-28T03:35:21Z</updated>\n",
      "    <published>2012-08-05T16:51:37Z</published>\n",
      "    <title>Stochastic dynamics of dengue epidemics</title>\n",
      "    <summary>  We use a stochastic Markovian dynamics approach to describe the spreading of\n",
      "vector-transmitted diseases, like dengue, and the threshold of the disease. The\n",
      "coexistence space is composed by two structures representing the human and\n",
      "mosquito populations. The human population follows a\n",
      "susceptible-infected-recovered (SIR) type dynamics and the mosquito population\n",
      "follows a susceptible-infected-susceptible (SIS) type dynamics. The human\n",
      "infection is caused by infected mosquitoes and vice-versa so that the SIS and\n",
      "SIR dynamics are interconnected. We develop a truncation scheme to solve the\n",
      "evolution equations from which we get the threshold of the disease and the\n",
      "reproductive ratio. The threshold of the disease is also obtained by performing\n",
      "numerical simulations. We found that for certain values of the infection rates\n",
      "the spreading of the disease is impossible whatever is the death rate of\n",
      "infected mosquito.\n",
      "</summary>\n",
      "    <author>\n",
      "      <name>David R. Souza</name>\n",
      "    </author>\n",
      "    <author>\n",
      "      <name>Tânia Tomé</name>\n",
      "    </author>\n",
      "    <author>\n",
      "      <name>Suani T. R. Pinho</name>\n",
      "    </author>\n",
      "    <author>\n",
      "      <name>Florisneide R. Barreto</name>\n",
      "    </author>\n",
      "    <author>\n",
      "      <name>Mário J. de Oliveira</name>\n",
      "    </author>\n",
      "    <arxiv:comment xmlns:arxiv=\"http://arxiv.org/schemas/atom\">8 pages, 3 figures, accepted for publication in Physical Review E</arxiv:comment>\n",
      "    <link href=\"http://arxiv.org/abs/1208.1694v2\" rel=\"alternate\" type=\"text/html\"/>\n",
      "    <link title=\"pdf\" href=\"http://arxiv.org/pdf/1208.1694v2\" rel=\"related\" type=\"application/pdf\"/>\n",
      "    <arxiv:primary_category xmlns:arxiv=\"http://arxiv.org/schemas/atom\" term=\"q-bio.PE\" scheme=\"http://arxiv.org/schemas/atom\"/>\n",
      "    <category term=\"q-bio.PE\" scheme=\"http://arxiv.org/schemas/atom\"/>\n",
      "    <category term=\"cond-mat.stat-mech\" scheme=\"http://arxiv.org/schemas/atom\"/>\n",
      "    <category term=\"nlin.CG\" scheme=\"http://arxiv.org/schemas/atom\"/>\n",
      "  </entry>\n",
      "  <entry>\n",
      "    <id>http://arxiv.org/abs/1506.02540v1</id>\n",
      "    <updated>2015-06-08T15:14:44Z</updated>\n",
      "    <published>2015-06-08T15:14:44Z</published>\n",
      "    <title>An epidemic in a dynamic population with importation of infectives</title>\n",
      "    <summary>  Consider a large uniformly mixing dynamic population, which has constant\n",
      "birth rate and exponentially distributed lifetimes, with mean population size\n",
      "$n$. A Markovian SIR (susceptible $\\to$ infective $\\to$ recovered) infectious\n",
      "disease, having importation of infectives, taking place in this population is\n",
      "analysed. The main situation treated is where $n\\to\\infty$, keeping the basic\n",
      "reproduction number $R_0$ as well as the importation rate of infectives fixed,\n",
      "but assuming that the quotient of the average infectious period and the average\n",
      "lifetime tends to 0 faster than $1/\\log n$. It is shown that, as $ n \\to\n",
      "\\infty$, the behaviour of the 3-dimensional process describing the evolution of\n",
      "the fraction of the population that are susceptible, infective and recovered,\n",
      "is encapsulated in a 1-dimensional regenerative process $S=\\{ S(t);t\\ge 0\\}$\n",
      "describing the limiting fraction of the population that are susceptible. The\n",
      "process $S$ grows deterministically, except at one random time point per\n",
      "regenerative cycle, where it jumps down by a size that is completely determined\n",
      "by the waiting time since the previous jump. Properties of the process $S$,\n",
      "including the jump size and stationary distributions, are determined.\n",
      "</summary>\n",
      "    <author>\n",
      "      <name>Frank Ball</name>\n",
      "    </author>\n",
      "    <author>\n",
      "      <name>Tom Britton</name>\n",
      "    </author>\n",
      "    <author>\n",
      "      <name>Pieter Trapman</name>\n",
      "    </author>\n",
      "    <link href=\"http://arxiv.org/abs/1506.02540v1\" rel=\"alternate\" type=\"text/html\"/>\n",
      "    <link title=\"pdf\" href=\"http://arxiv.org/pdf/1506.02540v1\" rel=\"related\" type=\"application/pdf\"/>\n",
      "    <arxiv:primary_category xmlns:arxiv=\"http://arxiv.org/schemas/atom\" term=\"math.PR\" scheme=\"http://arxiv.org/schemas/atom\"/>\n",
      "    <category term=\"math.PR\" scheme=\"http://arxiv.org/schemas/atom\"/>\n",
      "  </entry>\n",
      "  <entry>\n",
      "    <id>http://arxiv.org/abs/1006.2129v2</id>\n",
      "    <updated>2010-10-27T19:03:46Z</updated>\n",
      "    <published>2010-06-10T19:49:19Z</published>\n",
      "    <title>On the critical behavior of the Susceptible-Infected-Recovered (SIR)\n",
      "  model on a square lattice</title>\n",
      "    <summary>  By means of numerical simulations and epidemic analysis, the transition point\n",
      "of the stochastic, asynchronous Susceptible-Infected-Recovered (SIR) model on a\n",
      "square lattice is found to be c_0=0.1765005(10), where c is the probability a\n",
      "chosen infected site spontaneously recovers rather than tries to infect one\n",
      "neighbor. This point corresponds to an infection/recovery rate of lambda_c =\n",
      "(1-c_0)/c_0 = 4.66571(3) and a net transmissibility of (1-c_0)/(1 + 3 c_0) =\n",
      "0.538410(2), which falls between the rigorous bounds of the site and bond\n",
      "thresholds. The critical behavior of the model is consistent with the 2-d\n",
      "percolation universality class, but local growth probabilities differ from\n",
      "those of dynamic percolation cluster growth, as is demonstrated explicitly.\n",
      "</summary>\n",
      "    <author>\n",
      "      <name>Tânia Tomé</name>\n",
      "    </author>\n",
      "    <author>\n",
      "      <name>Robert M. Ziff</name>\n",
      "    </author>\n",
      "    <arxiv:doi xmlns:arxiv=\"http://arxiv.org/schemas/atom\">10.1103/PhysRevE.82.051921</arxiv:doi>\n",
      "    <link title=\"doi\" href=\"http://dx.doi.org/10.1103/PhysRevE.82.051921\" rel=\"related\"/>\n",
      "    <arxiv:comment xmlns:arxiv=\"http://arxiv.org/schemas/atom\">9 pages, 5 figures. Accepted for publication, Physical Review E</arxiv:comment>\n",
      "    <arxiv:journal_ref xmlns:arxiv=\"http://arxiv.org/schemas/atom\">Phys. Rev. E 82, 051921 (2010)</arxiv:journal_ref>\n",
      "    <link href=\"http://arxiv.org/abs/1006.2129v2\" rel=\"alternate\" type=\"text/html\"/>\n",
      "    <link title=\"pdf\" href=\"http://arxiv.org/pdf/1006.2129v2\" rel=\"related\" type=\"application/pdf\"/>\n",
      "    <arxiv:primary_category xmlns:arxiv=\"http://arxiv.org/schemas/atom\" term=\"cond-mat.dis-nn\" scheme=\"http://arxiv.org/schemas/atom\"/>\n",
      "    <category term=\"cond-mat.dis-nn\" scheme=\"http://arxiv.org/schemas/atom\"/>\n",
      "    <category term=\"cond-mat.stat-mech\" scheme=\"http://arxiv.org/schemas/atom\"/>\n",
      "    <category term=\"physics.bio-ph\" scheme=\"http://arxiv.org/schemas/atom\"/>\n",
      "  </entry>\n",
      "  <entry>\n",
      "    <id>http://arxiv.org/abs/1608.04049v1</id>\n",
      "    <updated>2016-08-14T02:12:22Z</updated>\n",
      "    <published>2016-08-14T02:12:22Z</published>\n",
      "    <title>Impact of asymptomatic infection on coupled disease-behavior dynamics in\n",
      "  complex networks</title>\n",
      "    <summary>  Studies on how to model the interplay between diseases and behavioral\n",
      "responses (so-called coupled disease-behavior interaction) have attracted\n",
      "increasing attention. Owing to the lack of obvious clinical evidence of\n",
      "diseases, or the incomplete information related to the disease, the risks of\n",
      "infection cannot be perceived and may lead to inappropriate behavioral\n",
      "responses. Therefore, how to quantitatively analyze the impacts of asymptomatic\n",
      "infection on the interplay between diseases and behavioral responses is of\n",
      "particular importance. In this Letter, under the complex network framework, we\n",
      "study the coupled disease-behavior interaction model by dividing infectious\n",
      "individuals into two states: U-state (without evident clinical symptoms,\n",
      "labelled as U) and I-state (with evident clinical symptoms, labelled as I). A\n",
      "susceptible individual can be infected by U- or I-nodes, however, since the\n",
      "U-nodes cannot be easily observed, susceptible individuals take behavioral\n",
      "responses \\emph{only} when they contact I-nodes. The mechanism is considered in\n",
      "the improved Susceptible-Infected-Susceptible (SIS) model and the improved\n",
      "Susceptible-Infected-Recovered (SIR) model, respectively. Then, one of the most\n",
      "concerned problems in spreading dynamics: the epidemic thresholds for the two\n",
      "models are given by two methods. The analytic results \\emph{quantitatively}\n",
      "describe the influence of different factors, such as asymptomatic infection,\n",
      "the awareness rate, the network structure, and so forth, on the epidemic\n",
      "thresholds. Moreover, because of the irreversible process of the SIR model, the\n",
      "suppression effect of the improved SIR model is weaker than the improved SIS\n",
      "model.\n",
      "</summary>\n",
      "    <author>\n",
      "      <name>Hai-Feng Zhang</name>\n",
      "    </author>\n",
      "    <author>\n",
      "      <name>Jia-Rong Xie</name>\n",
      "    </author>\n",
      "    <author>\n",
      "      <name>Han-Shuang Chen</name>\n",
      "    </author>\n",
      "    <author>\n",
      "      <name>Can Liu</name>\n",
      "    </author>\n",
      "    <author>\n",
      "      <name>Michael Small</name>\n",
      "    </author>\n",
      "    <arxiv:doi xmlns:arxiv=\"http://arxiv.org/schemas/atom\">10.1209/0295-5075/114/38004</arxiv:doi>\n",
      "    <link title=\"doi\" href=\"http://dx.doi.org/10.1209/0295-5075/114/38004\" rel=\"related\"/>\n",
      "    <arxiv:comment xmlns:arxiv=\"http://arxiv.org/schemas/atom\">6 pages, 3 figures</arxiv:comment>\n",
      "    <arxiv:journal_ref xmlns:arxiv=\"http://arxiv.org/schemas/atom\">EPL (Europhysics Letters),114(3), (2016),38004</arxiv:journal_ref>\n",
      "    <link href=\"http://arxiv.org/abs/1608.04049v1\" rel=\"alternate\" type=\"text/html\"/>\n",
      "    <link title=\"pdf\" href=\"http://arxiv.org/pdf/1608.04049v1\" rel=\"related\" type=\"application/pdf\"/>\n",
      "    <arxiv:primary_category xmlns:arxiv=\"http://arxiv.org/schemas/atom\" term=\"physics.soc-ph\" scheme=\"http://arxiv.org/schemas/atom\"/>\n",
      "    <category term=\"physics.soc-ph\" scheme=\"http://arxiv.org/schemas/atom\"/>\n",
      "    <category term=\"q-bio.PE\" scheme=\"http://arxiv.org/schemas/atom\"/>\n",
      "  </entry>\n",
      "  <entry>\n",
      "    <id>http://arxiv.org/abs/1504.00474v2</id>\n",
      "    <updated>2015-04-27T01:13:05Z</updated>\n",
      "    <published>2015-04-02T08:32:21Z</published>\n",
      "    <title>Identification of highly susceptible individuals in complex networks</title>\n",
      "    <summary>  Identifying highly susceptible individuals in spreading processes is of great\n",
      "significance in controlling outbreaks. In this paper, we explore the\n",
      "susceptibility of people in susceptible-infectious-recovered (SIR) and rumor\n",
      "spreading dynamics. We first study the impact of community structure on\n",
      "people's susceptibility. Despite that the community structure can reduce the\n",
      "infected population given same infection rates, it will not deterministically\n",
      "affect nodes' susceptibility. We find the susceptibility of individuals is\n",
      "sensitive to the choice of spreading dynamics. For SIR spreading, since the\n",
      "susceptibility is highly correlated to nodes' influence, the topological\n",
      "indicator k-shell can better identify highly susceptible individuals,\n",
      "outperforming degree, betweenness centrality and PageRank. In contrast, in\n",
      "rumor spreading model, where nodes' susceptibility and influence have no clear\n",
      "correlation, degree performs the best among considered topological measures.\n",
      "Our finding highlights the significance of both topological features and\n",
      "spreading mechanisms in identifying highly susceptible population.\n",
      "</summary>\n",
      "    <author>\n",
      "      <name>Shaoting Tang</name>\n",
      "    </author>\n",
      "    <author>\n",
      "      <name>Xian Teng</name>\n",
      "    </author>\n",
      "    <author>\n",
      "      <name>Sen Pei</name>\n",
      "    </author>\n",
      "    <author>\n",
      "      <name>Shu Yan</name>\n",
      "    </author>\n",
      "    <author>\n",
      "      <name>Zhiming Zheng</name>\n",
      "    </author>\n",
      "    <arxiv:doi xmlns:arxiv=\"http://arxiv.org/schemas/atom\">10.1016/j.physa.2015.03.046</arxiv:doi>\n",
      "    <link title=\"doi\" href=\"http://dx.doi.org/10.1016/j.physa.2015.03.046\" rel=\"related\"/>\n",
      "    <link href=\"http://arxiv.org/abs/1504.00474v2\" rel=\"alternate\" type=\"text/html\"/>\n",
      "    <link title=\"pdf\" href=\"http://arxiv.org/pdf/1504.00474v2\" rel=\"related\" type=\"application/pdf\"/>\n",
      "    <arxiv:primary_category xmlns:arxiv=\"http://arxiv.org/schemas/atom\" term=\"physics.soc-ph\" scheme=\"http://arxiv.org/schemas/atom\"/>\n",
      "    <category term=\"physics.soc-ph\" scheme=\"http://arxiv.org/schemas/atom\"/>\n",
      "    <category term=\"cs.SI\" scheme=\"http://arxiv.org/schemas/atom\"/>\n",
      "  </entry>\n",
      "  <entry>\n",
      "    <id>http://arxiv.org/abs/1511.08572v3</id>\n",
      "    <updated>2016-12-24T23:53:38Z</updated>\n",
      "    <published>2015-11-27T07:17:57Z</published>\n",
      "    <title>Elementary proof of convergence to the mean-field model for the SIR\n",
      "  process</title>\n",
      "    <summary>  The susceptible-infected-recovered (SIR) model has been used extensively to\n",
      "model disease spread and other processes. Despite the widespread usage of this\n",
      "ordinary differential equation (ODE) based model which represents the\n",
      "mean-field approximation of the underlying stochastic SIR process on contact\n",
      "networks, only few rigorous approaches exist and these use complex semigroup\n",
      "and martingale techniques to prove that the expected fraction of the\n",
      "susceptible and infected nodes of the stochastic SIR process on a complete\n",
      "graph converges as the number of nodes increases to the solution of the\n",
      "mean-field ODE model. Extending the elementary proof of convergence for the SIS\n",
      "process introduced by Armbruster and Beck (2016) to the SIR process, we show\n",
      "convergence using only a system of three ODEs, simple probabilistic\n",
      "inequalities, and basic ODE theory. Our approach can also be generalized to\n",
      "many other types of compartmental models (e.g.,\n",
      "susceptible-infected-recovered-susceptible (SIRS)) which are linear ODEs with\n",
      "the addition of quadratic terms for the number of new infections similar to the\n",
      "SI term in the SIR model.\n",
      "</summary>\n",
      "    <author>\n",
      "      <name>Ekkehard Beck</name>\n",
      "    </author>\n",
      "    <author>\n",
      "      <name>Benjamin Armbruster</name>\n",
      "    </author>\n",
      "    <arxiv:comment xmlns:arxiv=\"http://arxiv.org/schemas/atom\">18 pages, 2 figures</arxiv:comment>\n",
      "    <link href=\"http://arxiv.org/abs/1511.08572v3\" rel=\"alternate\" type=\"text/html\"/>\n",
      "    <link title=\"pdf\" href=\"http://arxiv.org/pdf/1511.08572v3\" rel=\"related\" type=\"application/pdf\"/>\n",
      "    <arxiv:primary_category xmlns:arxiv=\"http://arxiv.org/schemas/atom\" term=\"math.DS\" scheme=\"http://arxiv.org/schemas/atom\"/>\n",
      "    <category term=\"math.DS\" scheme=\"http://arxiv.org/schemas/atom\"/>\n",
      "    <category term=\"cs.SI\" scheme=\"http://arxiv.org/schemas/atom\"/>\n",
      "    <category term=\"math.PR\" scheme=\"http://arxiv.org/schemas/atom\"/>\n",
      "    <category term=\"q-bio.PE\" scheme=\"http://arxiv.org/schemas/atom\"/>\n",
      "  </entry>\n",
      "  <entry>\n",
      "    <id>http://arxiv.org/abs/q-bio/0701024v1</id>\n",
      "    <updated>2007-01-17T15:58:32Z</updated>\n",
      "    <published>2007-01-17T15:58:32Z</published>\n",
      "    <title>Solution of an infection model near threshold</title>\n",
      "    <summary>  We study the Susceptible-Infected-Recovered model of epidemics in the\n",
      "vicinity of the threshold infectivity. We derive the distribution of total\n",
      "outbreak size in the limit of large population size $N$. This is accomplished\n",
      "by mapping the problem to the first passage time of a random walker subject to\n",
      "a drift that increases linearly with time. We recover the scaling results of\n",
      "Ben-Naim and Krapivsky that the effective maximal size of the outbreak scales\n",
      "as $N^{2/3}$, with the average scaling as $N^{1/3}$, with an explicit form for\n",
      "the scaling function.\n",
      "</summary>\n",
      "    <author>\n",
      "      <name>David A. Kessler</name>\n",
      "    </author>\n",
      "    <author>\n",
      "      <name>Nadav M. Shnerb</name>\n",
      "    </author>\n",
      "    <arxiv:doi xmlns:arxiv=\"http://arxiv.org/schemas/atom\">10.1103/PhysRevE.76.010901</arxiv:doi>\n",
      "    <link title=\"doi\" href=\"http://dx.doi.org/10.1103/PhysRevE.76.010901\" rel=\"related\"/>\n",
      "    <link href=\"http://arxiv.org/abs/q-bio/0701024v1\" rel=\"alternate\" type=\"text/html\"/>\n",
      "    <link title=\"pdf\" href=\"http://arxiv.org/pdf/q-bio/0701024v1\" rel=\"related\" type=\"application/pdf\"/>\n",
      "    <arxiv:primary_category xmlns:arxiv=\"http://arxiv.org/schemas/atom\" term=\"q-bio.PE\" scheme=\"http://arxiv.org/schemas/atom\"/>\n",
      "    <category term=\"q-bio.PE\" scheme=\"http://arxiv.org/schemas/atom\"/>\n",
      "  </entry>\n",
      "</feed>\n",
      "\n"
     ]
    }
   ],
   "source": [
    "print()\n",
    "print(80 * '*')\n",
    "print(xml_text)\n"
   ]
  },
  {
   "cell_type": "code",
   "execution_count": 120,
   "metadata": {},
   "outputs": [],
   "source": [
    "\n",
    "for link in article_metadata.find_all('link'):\n",
    "    pass"
   ]
  },
  {
   "cell_type": "code",
   "execution_count": 133,
   "metadata": {},
   "outputs": [],
   "source": [
    "\n",
    "if 'author' in link.attrs:\n",
    "    k, v = link.attrs['title'], link.attrs['href']\n",
    "    d_links[k] = v"
   ]
  },
  {
   "cell_type": "code",
   "execution_count": 134,
   "metadata": {},
   "outputs": [
    {
     "data": {
      "text/plain": [
       "{'title': 'pdf',\n",
       " 'href': 'http://arxiv.org/pdf/1411.2370v2',\n",
       " 'rel': ['related'],\n",
       " 'type': 'application/pdf'}"
      ]
     },
     "execution_count": 134,
     "metadata": {},
     "output_type": "execute_result"
    }
   ],
   "source": [
    "link.attrs"
   ]
  },
  {
   "cell_type": "code",
   "execution_count": 132,
   "metadata": {},
   "outputs": [
    {
     "data": {
      "text/plain": [
       "'http://arxiv.org/pdf/1411.2370v2'"
      ]
     },
     "execution_count": 132,
     "metadata": {},
     "output_type": "execute_result"
    }
   ],
   "source": [
    "v"
   ]
  },
  {
   "cell_type": "code",
   "execution_count": 124,
   "metadata": {},
   "outputs": [
    {
     "data": {
      "text/plain": [
       "<link href=\"http://arxiv.org/pdf/1411.2370v2\" rel=\"related\" title=\"pdf\" type=\"application/pdf\"/>"
      ]
     },
     "execution_count": 124,
     "metadata": {},
     "output_type": "execute_result"
    }
   ],
   "source": [
    "link"
   ]
  },
  {
   "cell_type": "code",
   "execution_count": 119,
   "metadata": {},
   "outputs": [
    {
     "data": {
      "text/plain": [
       "{'title': 'doi',\n",
       " 'href': 'http://dx.doi.org/10.1109/TIT.2017.2698504',\n",
       " 'rel': ['related']}"
      ]
     },
     "execution_count": 119,
     "metadata": {},
     "output_type": "execute_result"
    }
   ],
   "source": [
    "link.attrs"
   ]
  },
  {
   "cell_type": "code",
   "execution_count": 108,
   "metadata": {
    "scrolled": true
   },
   "outputs": [
    {
     "data": {
      "text/plain": [
       "{'title': 'doi',\n",
       " 'href': 'http://dx.doi.org/10.1109/TIT.2017.2698504',\n",
       " 'rel': ['related']}"
      ]
     },
     "execution_count": 108,
     "metadata": {},
     "output_type": "execute_result"
    }
   ],
   "source": [
    "article_metadata.find_all('link')[0].attrs"
   ]
  },
  {
   "cell_type": "code",
   "execution_count": 14,
   "metadata": {},
   "outputs": [
    {
     "data": {
      "text/plain": [
       "'ArXiv Query: search_query=all:electron&id_list=&start=0&max_results=1'"
      ]
     },
     "execution_count": 14,
     "metadata": {},
     "output_type": "execute_result"
    }
   ],
   "source": [
    "\n",
    "summary = ''.join(soup.find('summary').contents).strip().replace('\\n', ' ')\n",
    "title = ''.join(soup.find('title').contents).strip().replace('\\n', ' ')\n",
    "title"
   ]
  },
  {
   "cell_type": "code",
   "execution_count": 15,
   "metadata": {},
   "outputs": [
    {
     "data": {
      "text/plain": [
       "[<title type=\"html\">ArXiv Query: search_query=all:electron&amp;id_list=&amp;start=0&amp;max_results=1</title>,\n",
       " <title>Impact of Electron-Electron Cusp on Configuration Interaction Energies</title>]"
      ]
     },
     "execution_count": 15,
     "metadata": {},
     "output_type": "execute_result"
    }
   ],
   "source": [
    "\n",
    "soup.find_all('title')"
   ]
  },
  {
   "cell_type": "code",
   "execution_count": null,
   "metadata": {},
   "outputs": [],
   "source": [
    "'http://export.arxiv.org/api/query?search_query=all:electron&start=0&max_results=10'"
   ]
  },
  {
   "cell_type": "code",
   "execution_count": null,
   "metadata": {},
   "outputs": [],
   "source": [
    "import xml"
   ]
  },
  {
   "cell_type": "code",
   "execution_count": null,
   "metadata": {},
   "outputs": [],
   "source": [
    "e = xml.etree.ElementTree.parse('xml.xml')"
   ]
  },
  {
   "cell_type": "code",
   "execution_count": null,
   "metadata": {},
   "outputs": [],
   "source": [
    "e.findall('title')"
   ]
  },
  {
   "cell_type": "code",
   "execution_count": null,
   "metadata": {},
   "outputs": [],
   "source": [
    "bf.data(r.text)"
   ]
  },
  {
   "cell_type": "code",
   "execution_count": null,
   "metadata": {},
   "outputs": [],
   "source": [
    "r.text"
   ]
  },
  {
   "cell_type": "code",
   "execution_count": null,
   "metadata": {},
   "outputs": [],
   "source": [
    "import urllib\n",
    "\n",
    "base = 'http://export.arxiv.org/api/'\n",
    "method = 'query'\n",
    "search_term = 'electron'\n",
    "parameters\n",
    "parameters = 'search_query=all:' + electron&start=0&max_results=10'\n",
    "query = base + method + '?' + parameters\n",
    "data = urllib.request.urlopen(query).read()\n",
    "print(data)"
   ]
  },
  {
   "cell_type": "code",
   "execution_count": null,
   "metadata": {},
   "outputs": [],
   "source": []
  },
  {
   "cell_type": "code",
   "execution_count": null,
   "metadata": {},
   "outputs": [],
   "source": [
    "data."
   ]
  }
 ],
 "metadata": {
  "kernelspec": {
   "display_name": "multivac",
   "language": "python",
   "name": "multivac"
  },
  "language_info": {
   "codemirror_mode": {
    "name": "ipython",
    "version": 3
   },
   "file_extension": ".py",
   "mimetype": "text/x-python",
   "name": "python",
   "nbconvert_exporter": "python",
   "pygments_lexer": "ipython3",
   "version": "3.7.1"
  }
 },
 "nbformat": 4,
 "nbformat_minor": 2
}
